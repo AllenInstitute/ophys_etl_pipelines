{
 "cells": [
  {
   "cell_type": "code",
   "execution_count": null,
   "id": "95224af8",
   "metadata": {},
   "outputs": [],
   "source": [
    "%matplotlib inline\n",
    "import numpy as np\n",
    "from IPython.display import display, Video\n",
    "\n",
    "from ophys_etl.modules.segmentation.qc_utils.classifier_utils import (\n",
    "    Classifier_ROISet)\n",
    "\n",
    "from ophys_etl.modules.segmentation.qc_utils.video_display_generator import (\n",
    "    VideoDisplayGenerator)"
   ]
  },
  {
   "cell_type": "code",
   "execution_count": null,
   "id": "26cf27b4",
   "metadata": {},
   "outputs": [],
   "source": [
    "video_gen = VideoDisplayGenerator()"
   ]
  },
  {
   "cell_type": "code",
   "execution_count": null,
   "id": "823bdf89",
   "metadata": {},
   "outputs": [],
   "source": [
    "artifact_path='/Users/scott.daniel/Pika/ophys_etl_2/sfd_sandbox/artifacts/output.h5'"
   ]
  },
  {
   "cell_type": "code",
   "execution_count": null,
   "id": "60e6bbb5",
   "metadata": {},
   "outputs": [],
   "source": [
    "classifier = Classifier_ROISet(artifact_path, log_path='dummy_log.json', clobber=True)"
   ]
  },
  {
   "cell_type": "code",
   "execution_count": null,
   "id": "ec02c448",
   "metadata": {},
   "outputs": [],
   "source": [
    "display(classifier.get_summary_figure())"
   ]
  },
  {
   "cell_type": "code",
   "execution_count": null,
   "id": "e4ff430f",
   "metadata": {},
   "outputs": [],
   "source": [
    "display(classifier.get_summary_figure(origin=(300,200), frame_shape=(90, 90), label_rois=True, fontsize=30))"
   ]
  },
  {
   "cell_type": "code",
   "execution_count": null,
   "id": "740c2a8f",
   "metadata": {},
   "outputs": [],
   "source": [
    "roi = classifier.get_roi(191)"
   ]
  },
  {
   "cell_type": "code",
   "execution_count": null,
   "id": "d8c7dcb5",
   "metadata": {},
   "outputs": [],
   "source": [
    "display(roi.get_trace_plot())"
   ]
  },
  {
   "cell_type": "code",
   "execution_count": null,
   "id": "faa9adf9",
   "metadata": {},
   "outputs": [],
   "source": [
    "display(roi.get_trace_plot(timesteps=np.arange(5000,7000)))"
   ]
  },
  {
   "cell_type": "code",
   "execution_count": null,
   "id": "f74e0d16",
   "metadata": {},
   "outputs": [],
   "source": [
    "%%time\n",
    "thumbnail = roi.get_thumbnail_video(timesteps=np.arange(5000,7000), include_others=True)\n",
    "Video(**video_gen.display_video(thumbnail))"
   ]
  },
  {
   "cell_type": "code",
   "execution_count": null,
   "id": "00fbf0ea",
   "metadata": {},
   "outputs": [],
   "source": []
  }
 ],
 "metadata": {
  "kernelspec": {
   "display_name": "Python 3",
   "language": "python",
   "name": "python3"
  },
  "language_info": {
   "codemirror_mode": {
    "name": "ipython",
    "version": 3
   },
   "file_extension": ".py",
   "mimetype": "text/x-python",
   "name": "python",
   "nbconvert_exporter": "python",
   "pygments_lexer": "ipython3",
   "version": "3.9.4"
  }
 },
 "nbformat": 4,
 "nbformat_minor": 5
}
