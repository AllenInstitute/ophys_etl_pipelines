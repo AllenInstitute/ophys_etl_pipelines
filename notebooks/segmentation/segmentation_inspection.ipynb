{
 "cells": [
  {
   "cell_type": "code",
   "execution_count": null,
   "metadata": {},
   "outputs": [],
   "source": [
    "%matplotlib widget\n",
    "\n",
    "import pandas as pd\n",
    "from pathlib import Path\n",
    "import matplotlib.pyplot as plt\n",
    "import ipywidgets as widgets\n",
    "from functools import partial\n",
    "import networkx as nx\n",
    "import json\n",
    "import numpy as np\n",
    "\n",
    "from ophys_etl.modules.segmentation.graph_utils import plotting as guplot\n",
    "from ophys_etl.modules.decrosstalk.ophys_plane import OphysROI, OphysMovie\n",
    "from ophys_etl.modules.decrosstalk.ophys_plane import find_overlapping_roi_pairs\n",
    "from ophys_etl.modules.segmentation.qc_utils.roi_utils import ROIExaminer\n",
    "from ophys_etl.modules.segmentation.qc_utils.roi_utils import add_roi_boundaries_to_img\n",
    "from ophys_etl.modules.segmentation.qc_utils.roi_utils import roi_thumbnail"
   ]
  },
  {
   "cell_type": "code",
   "execution_count": null,
   "metadata": {},
   "outputs": [],
   "source": [
    "basedir = Path(\"/allen/programs/braintv/workgroups/nc-ophys/danielk/deepinterpolation/experiments\")\n",
    "experiment_ids = [785569470, 1048483611, 1048483613, 1048483616, 785569447,\n",
    "                  788422859, 795901850, 788422825, 795897800, 850517348,\n",
    "                  951980473, 951980484, 795901895, 806862946, 803965468,\n",
    "                  806928824]\n",
    "metadata_files = [basedir / f\"ophys_experiment_{i}\" / \"metadata.csv\" for i in experiment_ids]"
   ]
  },
  {
   "cell_type": "markdown",
   "metadata": {},
   "source": [
    "### Available Experiments"
   ]
  },
  {
   "cell_type": "code",
   "execution_count": null,
   "metadata": {},
   "outputs": [],
   "source": [
    "frames = pd.concat([pd.read_csv(file, header=None).set_index(0).T for file in metadata_files]).set_index(\"ophys_experiment_id\")\n",
    "frames[\"depth\"] = frames[\"depth\"].astype(int)\n",
    "frames = frames.sort_values(by=[\"code\", \"rig\", \"depth\"]).reset_index()\n",
    "display(frames)"
   ]
  },
  {
   "cell_type": "code",
   "execution_count": null,
   "metadata": {},
   "outputs": [],
   "source": [
    "df_per_row = [pd.DataFrame(i[1]).T for i in frames.iterrows()]\n",
    "col_widths = [max([len(f\"{i}\") for i in frames[c].values]) for c in frames.columns]\n",
    "options = [\"\".join([f\"{i:{w + 4}}\" for i, w in zip(k.values[0], col_widths)]) for k in df_per_row]\n",
    "eids = [int(i[\"ophys_experiment_id\"].values[0]) for i in df_per_row]\n",
    "values = [basedir / f\"ophys_experiment_{i}\" for i in eids]\n",
    "experiment_selector = widgets.Dropdown(\n",
    "    options=[(o, v) for o, v in zip(options, values)],\n",
    "    layout={'width': 'max-content'}, # If the items' names are long\n",
    "    description='Select experiment:',\n",
    "    disabled=False\n",
    ")\n",
    "display(experiment_selector)"
   ]
  },
  {
   "cell_type": "code",
   "execution_count": null,
   "metadata": {},
   "outputs": [],
   "source": [
    "def get_max_ave_projections(result_dir: Path):\n",
    "    nmax = result_dir / \"noised_maxp.png\"\n",
    "    navg = result_dir / \"noised_avgp.png\"\n",
    "    dnmax = result_dir / \"denoised_maxp.png\"\n",
    "    dnavg = result_dir / \"denoised_avgp.png\"\n",
    "\n",
    "    nmaxim = np.array(Image.open(nmax))\n",
    "    navgim = np.array(Image.open(navg))\n",
    "    dnmaxim = np.array(Image.open(dnmax))\n",
    "    dnavgim = np.array(Image.open(dnavg))\n",
    "\n",
    "    return nmaxim, dnmaxim, navgim, dnavgim"
   ]
  },
  {
   "cell_type": "code",
   "execution_count": null,
   "metadata": {},
   "outputs": [],
   "source": [
    "def new_background_selector(nrows, ncols):\n",
    "    available = []\n",
    "    for ext in [\"png\", \"pkl\"]:\n",
    "        available.extend(list((experiment_selector.value / \"backgrounds\").rglob(f\"*.{ext}\")))\n",
    "    background_selector = [\n",
    "        widgets.Dropdown(\n",
    "        options = [(p.name, p) for p in available],\n",
    "        description = f\"({i}, {j})\")\n",
    "    for i in range(nrows)\n",
    "    for j in range(ncols)\n",
    "    ]\n",
    "    return background_selector\n",
    "\n",
    "def new_foreground_selector(nrows, ncols):\n",
    "    files = list((experiment_selector.value / \"rois\").rglob(\"*_rois.json\"))\n",
    "    foreground_selector = [\n",
    "        widgets.Dropdown(\n",
    "        options = [(f.name, f) for f in files],\n",
    "        description = f\"({i}, {j})\")\n",
    "    for i in range(nrows)\n",
    "    for j in range(ncols)\n",
    "    ]\n",
    "    return foreground_selector"
   ]
  },
  {
   "cell_type": "code",
   "execution_count": null,
   "metadata": {},
   "outputs": [],
   "source": [
    "def update_background(change, fig, axes):\n",
    "    if change['type'] == 'change' and change['name'] == 'value':\n",
    "        axes.cla()\n",
    "        background_path = change[\"new\"]\n",
    "        if background_path.suffix == \".png\":\n",
    "            im = plt.imread(background_path)\n",
    "            axes.imshow(im, cmap=\"gray\")\n",
    "        elif background_path.suffix == \".pkl\":\n",
    "            graph = nx.read_gpickle(background_path)\n",
    "            attribute = list(list(graph.edges(data=True))[0][-1].keys())\n",
    "            if len(attribute) != 1:\n",
    "                raise ValueError(f\"{background_path} has multiple edge attribute names: {attribute}\")\n",
    "            guplot.draw_graph_edges(fig, axes, graph, attribute[0])\n",
    "        axes.set_title(background_path.name)\n",
    "\n",
    "@widgets.interact(nrows=[1, 2, 3], ncols=[1, 2, 3])\n",
    "def update(nrows=1, ncols=1):\n",
    "    # erase old figure\n",
    "    fig = plt.figure(1)\n",
    "    plt.close(fig)\n",
    "    \n",
    "    # make new figure\n",
    "    fig, axes = plt.subplots(nrows, ncols, clear=True, sharex=True, sharey=True, num=1, squeeze=False)\n",
    "    plt.show()\n",
    "    \n",
    "    # make callbacks for each subplot\n",
    "    bgpartials = [partial(update_background, fig=fig, axes=a) for a in axes.flat]\n",
    "    \n",
    "    # make selectors for each axis and attach to callbacks\n",
    "    backgrounds = new_background_selector(nrows, ncols)\n",
    "    for bg, bgp in zip(backgrounds, bgpartials):\n",
    "        bg.observe(bgp)\n",
    "    \n",
    "    # group the selectors and display\n",
    "    background_box = widgets.VBox([widgets.Label(\"backgrounds\")] + backgrounds)\n",
    "    foregrounds = new_foreground_selector(nrows, ncols)\n",
    "    foreground_box = widgets.VBox([widgets.Label(\"foregrounds\")] + foregrounds)\n",
    "    selector_box = widgets.HBox([background_box, foreground_box])\n",
    "    display(selector_box)"
   ]
  },
  {
   "cell_type": "code",
   "execution_count": null,
   "metadata": {},
   "outputs": [],
   "source": [
    "movie_widget_list = [\n",
    "    widgets.Checkbox(\n",
    "        value=True,\n",
    "        description=f.name,\n",
    "        layout={'width': 'max-content'}\n",
    "    )\n",
    "    for f in (experiment_selector.value / \"videos\").rglob(\"*.h5\")\n",
    "]\n",
    "rois_lists = list((experiment_selector.value / \"rois\").rglob(\"*_rois.json\"))\n",
    "rois_dict = dict()\n",
    "for r in rois_lists:\n",
    "    with open(r, \"r\") as f:\n",
    "        rois_dict[r.name] = json.load(f)\n",
    "movie_list = widgets.VBox(movie_widget_list)\n",
    "roi_drops = [\n",
    "    widgets.Dropdown(\n",
    "        options=np.sort([-1] + [i[\"id\"] for i in v]),\n",
    "        description=k,\n",
    "        layout={'width': 'max-content'}\n",
    "    )\n",
    "    for k, v in rois_dict.items()]\n",
    "roi_list = widgets.VBox(roi_drops)\n",
    "display(widgets.VBox(\n",
    "    [movie_list, roi_list],\n",
    "    layout={'width': 'max-content'}\n",
    "))"
   ]
  },
  {
   "cell_type": "code",
   "execution_count": null,
   "metadata": {},
   "outputs": [],
   "source": [
    "def plot_callback(widg):\n",
    "    rois_lookup = dict()\n",
    "    for roi_select in roi_drops:\n",
    "        if roi_select.value != -1:\n",
    "            rois_lookup[roi_select.description] = int(roi_select.value)\n",
    "    rois = []\n",
    "    for k, v in list(rois_lookup.items()):\n",
    "        with open(experiment_selector.value / \"rois\" / k, \"r\") as f:\n",
    "            j = json.load(f)\n",
    "        for i in j:\n",
    "            if i[\"id\"] == v:\n",
    "                rois_lookup[k] = i\n",
    "    print(rois_lookup)\n",
    "button = widgets.Button(\n",
    "    description=\"plot traces\",\n",
    ")\n",
    "button.on_click(plot_callback)\n",
    "display(button)"
   ]
  },
  {
   "cell_type": "code",
   "execution_count": null,
   "metadata": {},
   "outputs": [],
   "source": []
  }
 ],
 "metadata": {
  "kernelspec": {
   "display_name": "Python 3",
   "language": "python",
   "name": "python3"
  },
  "language_info": {
   "codemirror_mode": {
    "name": "ipython",
    "version": 3
   },
   "file_extension": ".py",
   "mimetype": "text/x-python",
   "name": "python",
   "nbconvert_exporter": "python",
   "pygments_lexer": "ipython3",
   "version": "3.8.10"
  }
 },
 "nbformat": 4,
 "nbformat_minor": 4
}
