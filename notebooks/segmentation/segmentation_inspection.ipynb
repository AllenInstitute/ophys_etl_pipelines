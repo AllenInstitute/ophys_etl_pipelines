{
 "cells": [
  {
   "cell_type": "code",
   "execution_count": null,
   "metadata": {},
   "outputs": [],
   "source": [
    "%matplotlib widget\n",
    "\n",
    "import pandas as pd\n",
    "from pathlib import Path\n",
    "import matplotlib.pyplot as plt\n",
    "import ipywidgets as widgets\n",
    "from functools import partial\n",
    "import networkx as nx\n",
    "import json\n",
    "import numpy as np\n",
    "import h5py\n",
    "import multiprocessing\n",
    "import tempfile\n",
    "import sqlite3\n",
    "\n",
    "from IPython.display import Video\n",
    "\n",
    "from ophys_etl.types import ExtractROI\n",
    "from ophys_etl.modules.segmentation.qc_utils.roi_utils import add_list_of_roi_boundaries_to_img, add_labels_to_axes, convert_roi_keys\n",
    "from ophys_etl.modules.segmentation.qc_utils.graph_plotting import draw_graph_edges\n",
    "from ophys_etl.modules.segmentation.qc_utils.video_generator import VideoGenerator\n",
    "from ophys_etl.modules.segmentation.qc_utils.video_display_generator import VideoDisplayGenerator\n",
    "from ophys_etl.modules.segmentation.processing_log import SegmentationProcessingLog"
   ]
  },
  {
   "cell_type": "markdown",
   "metadata": {},
   "source": [
    "### Sqlite DB interface for creating notebook inspection manifest\n",
    "\n",
    "to use, install the READ requirements for :\n",
    "```\n",
    "pip install 'evaldb[READ] @ git+https://github.com/AllenInstitute/ophys_segmentation_eval_db'\n",
    "```"
   ]
  },
  {
   "cell_type": "code",
   "execution_count": null,
   "metadata": {},
   "outputs": [],
   "source": [
    "from evaldb.reader import EvalDBReader\n",
    "sqlite_path = Path(\"/allen/aibs/informatics/danielk/segmentation_tracking.db\")\n",
    "dbreader = EvalDBReader(sqlite_path)"
   ]
  },
  {
   "cell_type": "code",
   "execution_count": null,
   "metadata": {},
   "outputs": [],
   "source": [
    "all_metadata = dbreader.get_all_metadata()\n",
    "all_metadata"
   ]
  },
  {
   "cell_type": "code",
   "execution_count": null,
   "metadata": {},
   "outputs": [],
   "source": [
    "ophys_experiment_id = 788422825\n",
    "inspection_manifest = dbreader.get_inspection_manifest(ophys_experiment_id)\n",
    "pd.DataFrame.from_records([inspection_manifest[\"metadata\"]])"
   ]
  },
  {
   "cell_type": "markdown",
   "metadata": {
    "tags": []
   },
   "source": [
    "### inspection manifest specification\n",
    "\n",
    "the above sqlite interface is designed to feed this inspection notebook with an inspection manifest.\n",
    "\n",
    "But, if one wants to manually specify inspection data sources, the format is:\n",
    "\n",
    "```\n",
    "inspection_manifest = {\n",
    "    \"metadata\": dictionary (not required) \n",
    "    \"videos\": list of strings that are paths to videos\n",
    "    \"backgrounds\": list of strings that are paths to png or pkl background images/graphs\n",
    "    \"processing_logs\": list of strings that are paths to hdf5 processing_logs\n",
    "```\n",
    "an empty one:\n",
    "```\n",
    "inspection_manifest = {\n",
    "    \"videos\": [],\n",
    "    \"backgrounds\": [],\n",
    "    \"processing_logs\": []}\n",
    "```"
   ]
  },
  {
   "cell_type": "code",
   "execution_count": null,
   "metadata": {},
   "outputs": [],
   "source": [
    "def new_background_selector(nrows, ncols, background_paths):\n",
    "    background_selector = [\n",
    "        widgets.Dropdown(\n",
    "            options = [(None, None)] + [(p.name, p) for p in background_paths],\n",
    "            description = f\"({i}, {j})\",\n",
    "            layout=widgets.Layout(display='flex', align_items='flex-start')\n",
    "        )\n",
    "        for i in range(nrows)\n",
    "        for j in range(ncols)]\n",
    "    return background_selector\n",
    "\n",
    "def new_processing_log_selector(nrows, ncols, processing_logs):\n",
    "    foreground_selector = [\n",
    "        widgets.Dropdown(\n",
    "            options = [(None, None)] + [(f.name, f) for f in processing_logs],\n",
    "            description = f\"({i}, {j})\")\n",
    "        for i in range(nrows)\n",
    "        for j in range(ncols)]\n",
    "    dataset_selector = [\n",
    "        widgets.Dropdown(options=[], layout=widgets.Layout(width='150px')) \n",
    "        for i in range(nrows)\n",
    "        for j in range(ncols)]\n",
    "    return foreground_selector, dataset_selector\n",
    "\n",
    "def new_plot_update_buttons(nrows, ncols):\n",
    "    buttons = [\n",
    "        widgets.Button(description=\"Update\")\n",
    "        for i in range(nrows)\n",
    "        for j in range(ncols)]\n",
    "    return buttons\n",
    "\n",
    "def update_plot(widget, fig, axes, background_widget, log_widget, dataset_widget, label_widget):\n",
    "    background_path = background_widget.value\n",
    "    if background_path is None:\n",
    "        im = np.ones((512, 512, 3), dtype=\"uint8\") * 255\n",
    "    else:\n",
    "        if background_path.suffix == \".pkl\":\n",
    "            graph = nx.read_gpickle(background_path)\n",
    "            edge = list(graph.edges(data=True))[0]\n",
    "            attribute_name = list(edge[2].keys())[0]\n",
    "            axes.cla()\n",
    "            draw_graph_edges(fig, axes, graph, attribute_name, colorbar=False)\n",
    "            title = f\"{background_path.name}\"\n",
    "            axes.set_title(title, fontsize=10)\n",
    "            fig.tight_layout()\n",
    "            return\n",
    "        \n",
    "        im = plt.imread(background_path)\n",
    "        if im.ndim == 2:\n",
    "            im = np.dstack([im, im, im])\n",
    "    \n",
    "    log_path = log_widget.value\n",
    "    dataset = dataset_widget.value\n",
    "    if (log_path is not None) & (dataset is not None):\n",
    "        processing_log = SegmentationProcessingLog(log_path)\n",
    "        rois = processing_log.get_rois_from_group(dataset)\n",
    "        im = add_list_of_roi_boundaries_to_img(im, rois)\n",
    "    axes.cla()\n",
    "    axes.imshow(im)\n",
    "    title = \"\"\n",
    "    if background_path is not None:\n",
    "        title += f\"{background_path.name}\"\n",
    "    if log_path is not None:\n",
    "        if title != \"\":\n",
    "            title += \"\\n\"\n",
    "        title += f\"{log_path.name} - {dataset}\"\n",
    "    axes.set_title(title, fontsize=10)\n",
    "    \n",
    "    if label_widget.value:\n",
    "        add_labels_to_axes(axes, rois, (255, 0, 0), fontsize=6)\n",
    "    fig.tight_layout()"
   ]
  },
  {
   "cell_type": "code",
   "execution_count": null,
   "metadata": {},
   "outputs": [],
   "source": [
    "@widgets.interact(nrows=[1, 2, 3], ncols=[1, 2, 3])\n",
    "def update(nrows=1, ncols=1):\n",
    "    # erase old figure\n",
    "    fig = plt.figure(1)\n",
    "    plt.close(fig)\n",
    "    \n",
    "    # make new figure\n",
    "    fig, axes = plt.subplots(nrows, ncols, clear=True, sharex=True, sharey=True, num=1, squeeze=False)\n",
    "    plt.show()\n",
    "    fig.tight_layout()\n",
    "    \n",
    "    # make selectors for each axis and attach to callbacks\n",
    "    backgrounds = new_background_selector(nrows, ncols, inspection_manifest[\"backgrounds\"])\n",
    "    processing_logs, datasets = new_processing_log_selector(nrows, ncols, inspection_manifest[\"processing_logs\"])\n",
    "    \n",
    "    def on_change_logs(index):\n",
    "        def on_change(change):\n",
    "            \"\"\"open the log and see what groups have ROIs in them.\n",
    "            display the available groups in the datasets widget.\n",
    "            \"\"\"\n",
    "            if change['type'] == 'change' and change['name'] == 'value':\n",
    "                options = []\n",
    "                with h5py.File(processing_logs[index].value, \"r\") as f:\n",
    "                    for key in f.keys():\n",
    "                        if isinstance(f[key], h5py.Group):\n",
    "                            if \"rois\" in f[key]:\n",
    "                                options.append(key)\n",
    "                datasets[index].options = options\n",
    "        return on_change\n",
    "    \n",
    "    for i in range(len(processing_logs)):\n",
    "        processing_logs[i].observe(on_change_logs(i))\n",
    "    \n",
    "    label_checks = [widgets.Checkbox(description=\"include labels\") for i in range(nrows*ncols)]\n",
    "    partials = []\n",
    "    for ax, bgw, logw, dataw, lw in zip(axes.flat, backgrounds, processing_logs, datasets, label_checks):\n",
    "        partials.append(partial(update_plot,\n",
    "                                fig=fig,\n",
    "                                axes=ax,\n",
    "                                log_widget=logw,\n",
    "                                dataset_widget=dataw,\n",
    "                                background_widget=bgw,\n",
    "                                label_widget=lw))\n",
    "    update_buttons = new_plot_update_buttons(nrows, ncols)\n",
    "    for partial_fun, button in zip(partials, update_buttons):\n",
    "        button.on_click(partial_fun)\n",
    "    \n",
    "    # group the selectors and display\n",
    "    background_box = widgets.VBox([widgets.Label(\"backgrounds\")] + backgrounds)\n",
    "    log_selection = widgets.VBox([widgets.Label(\"processing logs\")] + processing_logs)\n",
    "    dataset_selection = widgets.VBox([widgets.Label(\"datasets\")] + datasets)\n",
    "    button_box = widgets.VBox([widgets.Label(\"update buttons\")] + update_buttons)\n",
    "    label_box = widgets.VBox([widgets.Label(\"include labels\")] + label_checks)\n",
    "    selector_box = widgets.HBox([background_box, log_selection, dataset_selection, label_box, button_box])\n",
    "    display(selector_box)"
   ]
  },
  {
   "cell_type": "code",
   "execution_count": null,
   "metadata": {},
   "outputs": [],
   "source": [
    "def all_roi_dicts():\n",
    "    results = dict()\n",
    "    for log in inspection_manifest[\"processing_logs\"]:\n",
    "        groups = []\n",
    "        with h5py.File(log, \"r\") as f:\n",
    "            for key in f.keys():\n",
    "                if isinstance(f[key], h5py.Group):\n",
    "                    if \"rois\" in f[key]:\n",
    "                        groups.append(key)\n",
    "        splog = SegmentationProcessingLog(log)\n",
    "        for group in groups:\n",
    "            results[f\"{log.name}-{group}\"] = splog.get_rois_from_group(group)\n",
    "    return results\n",
    "    \n",
    "movie_widget_list = [\n",
    "    widgets.Checkbox(\n",
    "        value=True,\n",
    "        description=f.name,\n",
    "        description_tooltip=str(f),\n",
    "        layout={'width': 'max-content'}\n",
    "    )\n",
    "    for f in inspection_manifest[\"videos\"]\n",
    "]\n",
    "\n",
    "rois_dict = all_roi_dicts()\n",
    "\n",
    "movie_list = widgets.VBox(movie_widget_list)\n",
    "roi_drops = [\n",
    "    widgets.Dropdown(\n",
    "        options=np.sort([-1] + [i[\"id\"] for i in v]),\n",
    "        description=k,\n",
    "        layout={'width': 'max-content'},\n",
    "        style={'description_width': 'initial'}\n",
    "    )\n",
    "    for k, v in rois_dict.items()]\n",
    "roi_list = widgets.VBox(roi_drops)\n",
    "trace_grouping = widgets.Dropdown(\n",
    "    options=[\n",
    "        (\"group traces by ROI\", 0),\n",
    "        (\"group traces by movie\", 1)\n",
    "    ])"
   ]
  },
  {
   "cell_type": "code",
   "execution_count": null,
   "metadata": {},
   "outputs": [],
   "source": [
    "def extents_from_roi(roi):\n",
    "    xmin = roi[\"x\"]\n",
    "    xmax = xmin + roi[\"width\"]\n",
    "    ymin = roi[\"y\"]\n",
    "    ymax = ymin + roi[\"height\"]\n",
    "    return xmin, xmax, ymin, ymax\n",
    "\n",
    "\n",
    "def get_trace(movie_path, roi):\n",
    "    xmin, xmax, ymin, ymax = extents_from_roi(roi)\n",
    "    with h5py.File(movie_path, \"r\") as f:\n",
    "        data = f[\"data\"][:, ymin: ymax, xmin: xmax]\n",
    "    data = data.reshape(data.shape[0], -1)\n",
    "    mask = np.array(roi[\"mask_matrix\"]).reshape(data.shape[1])\n",
    "    npix = np.count_nonzero(mask)\n",
    "    trace = data[:, mask].sum(axis=1) / npix\n",
    "    return trace\n",
    "\n",
    "\n",
    "def plot_callback():\n",
    "    # determine which ROIs are selected\n",
    "    rois_lookup = dict()\n",
    "    for roi_select in roi_drops:\n",
    "        if roi_select.value != -1:\n",
    "            rois_lookup[roi_select.description] = int(roi_select.value)\n",
    "    rois = []\n",
    "    for k, v in list(rois_lookup.items()):\n",
    "        j = rois_dict[k]\n",
    "        j = convert_roi_keys(j)\n",
    "        for i in j:\n",
    "            if i[\"id\"] == v:\n",
    "                rois_lookup[k] = i\n",
    "                \n",
    "    # determine which movie paths are selected\n",
    "    movie_paths = []\n",
    "    for movie_widget in movie_widget_list:\n",
    "        if movie_widget.value:\n",
    "            movie_paths.append(Path(movie_widget.description_tooltip))\n",
    "    \n",
    "    # get all combinations of ROIs and movie paths\n",
    "    trace_list = []\n",
    "    for roi_source, roi in rois_lookup.items():\n",
    "        for movie_path in movie_paths:\n",
    "            trace_list.append(\n",
    "                {\n",
    "                    \"roi_source\": roi_source,\n",
    "                    \"roi\": roi,\n",
    "                    \"roi_id\": roi[\"id\"],\n",
    "                    \"movie_path\": movie_path,\n",
    "                    \"movie_label\": movie_path.name,\n",
    "                    \"roi_label\": f\"{roi_source}_{roi['id']}\"\n",
    "                }\n",
    "            )\n",
    "    \n",
    "    # load traces in parallel\n",
    "    args = [(i[\"movie_path\"], i[\"roi\"]) for i in trace_list]\n",
    "    with multiprocessing.Pool(4) as pool:\n",
    "        results = pool.starmap(get_trace, args)\n",
    "    for i, result in enumerate(results):\n",
    "        trace_list[i][\"trace\"] = result\n",
    "    \n",
    "    # group according to selected method\n",
    "    df = pd.DataFrame.from_records(trace_list)\n",
    "    if trace_grouping.value == 0:\n",
    "        groups = df.groupby([\"roi_source\", \"roi_id\"])\n",
    "        label = \"movie_label\"\n",
    "    elif trace_grouping.value == 1:\n",
    "        groups = df.groupby([\"movie_label\"])\n",
    "        label = \"roi_label\"\n",
    "\n",
    "    fig2, axes2 = plt.subplots(len(groups), 1, clear=True, sharex=True, sharey=False, squeeze=False)\n",
    "    for group, ax in zip(groups, axes2.flat):\n",
    "        if isinstance(group[0], tuple):\n",
    "            ylab = \"\\n\".join([f\"{i}\" for i in group[0]])\n",
    "        else:\n",
    "            ylab = group[0]\n",
    "        ax.set_ylabel(ylab, fontsize=6)\n",
    "        for entry in group[1].iterrows():\n",
    "            ax.plot(entry[1][\"trace\"], linewidth=0.4, label=entry[1][label])\n",
    "\n",
    "    axes2.flat[0].legend(fontsize=6)\n",
    "    fig2.tight_layout()\n",
    "    plt.show()\n",
    "\n",
    "display(widgets.HBox(\n",
    "    [widgets.VBox([widgets.HTML(value=\"<b>available movies</b>\"),\n",
    "                   movie_list]),\n",
    "     widgets.VBox([widgets.HTML(value=\"<b>available ROIs</b>\"),\n",
    "                   roi_list])],\n",
    "    layout={'width': 'max-content'}))\n",
    "display(trace_grouping)\n",
    "b = widgets.interact_manual(plot_callback, description=\"plot traces\")\n",
    "b.widget.children[0].description = \"plot traces\""
   ]
  },
  {
   "cell_type": "code",
   "execution_count": null,
   "metadata": {},
   "outputs": [],
   "source": [
    "movie_list = inspection_manifest[\"videos\"]"
   ]
  },
  {
   "cell_type": "code",
   "execution_count": null,
   "metadata": {},
   "outputs": [],
   "source": [
    "display_generator = VideoDisplayGenerator()"
   ]
  },
  {
   "cell_type": "code",
   "execution_count": null,
   "metadata": {},
   "outputs": [],
   "source": [
    "%%time\n",
    "video_generator = VideoGenerator(movie_list[0])"
   ]
  },
  {
   "cell_type": "markdown",
   "metadata": {},
   "source": [
    "Display full field of view"
   ]
  },
  {
   "cell_type": "code",
   "execution_count": null,
   "metadata": {},
   "outputs": [],
   "source": [
    "%%time\n",
    "full_fov = video_generator.get_thumbnail_video(origin=(0,0), frame_shape=None, quality=4)"
   ]
  },
  {
   "cell_type": "code",
   "execution_count": null,
   "metadata": {},
   "outputs": [],
   "source": [
    "%%time\n",
    "Video(**display_generator.display_video(full_fov, width=512, height=512))"
   ]
  },
  {
   "cell_type": "markdown",
   "metadata": {},
   "source": [
    "Get and display a random thumbnail by hand"
   ]
  },
  {
   "cell_type": "code",
   "execution_count": null,
   "metadata": {},
   "outputs": [],
   "source": [
    "%%time\n",
    "by_hand_thumbnail = video_generator.get_thumbnail_video(origin=(100, 200), frame_shape=(64, 64),\n",
    "                                                        quality=5)"
   ]
  },
  {
   "cell_type": "code",
   "execution_count": null,
   "metadata": {},
   "outputs": [],
   "source": [
    "%%time\n",
    "Video(**display_generator.display_video(by_hand_thumbnail))"
   ]
  },
  {
   "cell_type": "markdown",
   "metadata": {},
   "source": [
    "Get and display a thumbnail containing an ROI"
   ]
  },
  {
   "cell_type": "code",
   "execution_count": null,
   "metadata": {},
   "outputs": [],
   "source": [
    "roi_file_list = list_roi_files(experiment_selector.value)\n",
    "roi_file_path = roi_file_list[-1]\n",
    "with open(roi_file_path, 'rb') as in_file:\n",
    "    roi_list = json.load(in_file)"
   ]
  },
  {
   "cell_type": "code",
   "execution_count": null,
   "metadata": {},
   "outputs": [],
   "source": [
    "keys = list(rois_dict.keys())\n",
    "raw_roi = rois_dict[keys[0]][6]"
   ]
  },
  {
   "cell_type": "code",
   "execution_count": null,
   "metadata": {},
   "outputs": [],
   "source": [
    "convert_roi_keys([raw_roi])[0].keys()"
   ]
  },
  {
   "cell_type": "code",
   "execution_count": null,
   "metadata": {},
   "outputs": [],
   "source": [
    "keys = list(rois_dict.keys())\n",
    "raw_roi = convert_roi_keys([rois_dict[keys[0]][6]])[0]\n",
    "roi = ExtractROI(x=raw_roi['x'], y=raw_roi['y'], width=raw_roi['width'], height=raw_roi['height'],\n",
    "                 mask=raw_roi['mask_matrix'])"
   ]
  },
  {
   "cell_type": "code",
   "execution_count": null,
   "metadata": {},
   "outputs": [],
   "source": [
    "%%time\n",
    "roi_thumbnail = video_generator.get_thumbnail_video_from_roi(roi, roi_color=(255,0,0), quality=9)"
   ]
  },
  {
   "cell_type": "code",
   "execution_count": null,
   "metadata": {},
   "outputs": [],
   "source": [
    "%%time\n",
    "Video(**display_generator.display_video(roi_thumbnail, width=512, height=512))"
   ]
  },
  {
   "cell_type": "markdown",
   "metadata": {},
   "source": [
    "Use padding kwarg to increase number of pixels on either side of the ROI"
   ]
  },
  {
   "cell_type": "code",
   "execution_count": null,
   "metadata": {},
   "outputs": [],
   "source": [
    "%%time\n",
    "padded_roi_thumbnail = video_generator.get_thumbnail_video_from_roi(roi, padding=20, roi_color=(255,0,0), quality=7)"
   ]
  },
  {
   "cell_type": "code",
   "execution_count": null,
   "metadata": {},
   "outputs": [],
   "source": [
    "%%time\n",
    "Video(**display_generator.display_video(padded_roi_thumbnail, width=512, height=512))"
   ]
  },
  {
   "cell_type": "markdown",
   "metadata": {},
   "source": [
    "Display without the ROI's border"
   ]
  },
  {
   "cell_type": "code",
   "execution_count": null,
   "metadata": {},
   "outputs": [],
   "source": [
    "%%time\n",
    "no_border_thumbnail = video_generator.get_thumbnail_video_from_roi(roi, quality=9)"
   ]
  },
  {
   "cell_type": "code",
   "execution_count": null,
   "metadata": {},
   "outputs": [],
   "source": [
    "%%time\n",
    "Video(**display_generator.display_video(no_border_thumbnail, width=512, height=512))"
   ]
  },
  {
   "cell_type": "markdown",
   "metadata": {},
   "source": [
    "Focus on timesteps where we know (from above) there is activity"
   ]
  },
  {
   "cell_type": "code",
   "execution_count": null,
   "metadata": {},
   "outputs": [],
   "source": [
    "%%time\n",
    "t0 = 4*60+26\n",
    "t1 = 4*60+38\n",
    "timesteps = np.arange(t0*31,t1*31)\n",
    "active_thumbnail = video_generator.get_thumbnail_video_from_roi(roi, roi_color=(255, 0, 0),\n",
    "                                                                quality=9, timesteps=timesteps)"
   ]
  },
  {
   "cell_type": "code",
   "execution_count": null,
   "metadata": {},
   "outputs": [],
   "source": [
    "%%time\n",
    "Video(**display_generator.display_video(active_thumbnail, width=512, height=512))"
   ]
  },
  {
   "cell_type": "code",
   "execution_count": null,
   "metadata": {},
   "outputs": [],
   "source": []
  },
  {
   "cell_type": "code",
   "execution_count": null,
   "metadata": {},
   "outputs": [],
   "source": []
  }
 ],
 "metadata": {
  "kernelspec": {
   "display_name": "Python 3",
   "language": "python",
   "name": "python3"
  },
  "language_info": {
   "codemirror_mode": {
    "name": "ipython",
    "version": 3
   },
   "file_extension": ".py",
   "mimetype": "text/x-python",
   "name": "python",
   "nbconvert_exporter": "python",
   "pygments_lexer": "ipython3",
   "version": "3.8.11"
  }
 },
 "nbformat": 4,
 "nbformat_minor": 4
}
