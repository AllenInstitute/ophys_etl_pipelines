{
 "cells": [
  {
   "cell_type": "code",
   "execution_count": null,
   "id": "72a1c4fb",
   "metadata": {
    "scrolled": true
   },
   "outputs": [],
   "source": [
    "%matplotlib inline\n",
    "import matplotlib.pyplot as plt\n",
    "import matplotlib.gridspec as gridspec"
   ]
  },
  {
   "cell_type": "code",
   "execution_count": null,
   "id": "f5fb4464",
   "metadata": {
    "scrolled": true
   },
   "outputs": [],
   "source": [
    "import pathlib\n",
    "import json\n",
    "import numpy as np\n",
    "from ophys_etl.modules.decrosstalk.ophys_plane import OphysROI, OphysMovie\n",
    "from ophys_etl.modules.decrosstalk.ophys_plane import find_overlapping_roi_pairs\n",
    "from ophys_etl.modules.segmentation.qc_utils.roi_utils import ROIExaminer\n",
    "from ophys_etl.modules.segmentation.qc_utils.roi_utils import add_roi_boundaries_to_img\n",
    "from ophys_etl.modules.segmentation.qc_utils.roi_utils import roi_thumbnail"
   ]
  },
  {
   "cell_type": "code",
   "execution_count": null,
   "id": "62ebaa1c",
   "metadata": {
    "scrolled": true
   },
   "outputs": [],
   "source": [
    "data_dir = pathlib.Path('/Users/scott.daniel/Pika/deep_interpolation/data')\n",
    "assert data_dir.is_dir()"
   ]
  },
  {
   "cell_type": "code",
   "execution_count": null,
   "id": "3efbaed3",
   "metadata": {
    "scrolled": true
   },
   "outputs": [],
   "source": [
    "movie_path = data_dir / 'denoised.h5'\n",
    "roi_path = data_dir / 'denoised_segmentation_output.json'\n",
    "assert movie_path.is_file()\n",
    "assert roi_path.is_file()"
   ]
  },
  {
   "cell_type": "code",
   "execution_count": null,
   "id": "017de266",
   "metadata": {
    "scrolled": true
   },
   "outputs": [],
   "source": []
  },
  {
   "cell_type": "code",
   "execution_count": null,
   "id": "52c62727",
   "metadata": {
    "scrolled": true
   },
   "outputs": [],
   "source": [
    "def create_dict_of_rois(roi_list, norm=1, offset=0):\n",
    "    dex = []\n",
    "    for roi in roi_list:\n",
    "        r = np.sqrt(roi.x0**2+roi.y0**2)\n",
    "        theta = np.arctan2(roi.y0, roi.x0)\n",
    "        if theta<0.0:\n",
    "            theta += 2.0*np.pi\n",
    "        dex.append(r+theta)\n",
    "    sorted_dex = np.argsort(dex)\n",
    "    new_roi_dict = {}\n",
    "    \n",
    "    ct = 0\n",
    "    for ct, ii in enumerate(sorted_dex):\n",
    "        old_roi = roi_list[ii]\n",
    "        new_roi = OphysROI(roi_id=int(norm*ct)+offset,\n",
    "                           x0=old_roi.x0,\n",
    "                           y0=old_roi.y0,\n",
    "                           width=old_roi.width,\n",
    "                           height=old_roi.height,\n",
    "                           mask_matrix=old_roi.mask_matrix,\n",
    "                           valid_roi=True)\n",
    "        assert new_roi.roi_id not in new_roi_dict\n",
    "        assert new_roi.x0==old_roi.x0\n",
    "        assert new_roi.y0==new_roi.y0\n",
    "        new_roi_dict[new_roi.roi_id] = new_roi\n",
    "    return new_roi_dict"
   ]
  },
  {
   "cell_type": "code",
   "execution_count": null,
   "id": "2dade166",
   "metadata": {
    "scrolled": true
   },
   "outputs": [],
   "source": []
  },
  {
   "cell_type": "code",
   "execution_count": null,
   "id": "163c4920",
   "metadata": {
    "scrolled": true
   },
   "outputs": [],
   "source": [
    "with open(roi_path, 'rb') as in_file:\n",
    "    raw_roi = json.load(in_file)\n",
    "\n",
    "denoised_roi_list = []\n",
    "for i_roi, roi_data in enumerate(raw_roi):\n",
    "    roi = OphysROI(height=roi_data['height'],\n",
    "                   width=roi_data['width'],\n",
    "                   mask_matrix=roi_data['mask_matrix'],\n",
    "                   x0=roi_data['x'],\n",
    "                   y0=roi_data['y'],\n",
    "                   roi_id=i_roi, valid_roi=True)\n",
    "    denoised_roi_list.append(roi)\n",
    "denoised_roi_dict = create_dict_of_rois(denoised_roi_list)\n",
    "del denoised_roi_list\n",
    "del raw_roi"
   ]
  },
  {
   "cell_type": "code",
   "execution_count": null,
   "id": "856f42c0",
   "metadata": {
    "scrolled": true
   },
   "outputs": [],
   "source": [
    "traditional_roi_list = []\n",
    "input_json_path = data_dir / 'OPHYS_EXTRACT_TRACES_QUEUE_1048483611_input.json'\n",
    "with open(input_json_path, 'rb') as in_file:\n",
    "    raw_roi = json.load(in_file)\n",
    "for i_roi, roi_data in enumerate(raw_roi['rois']):\n",
    "    assert i_roi>=0\n",
    "    roi = OphysROI(height=roi_data['height'],\n",
    "                   width=roi_data['width'],\n",
    "                   mask_matrix=roi_data['mask'],\n",
    "                   x0=roi_data['x'],\n",
    "                   y0=roi_data['y'],\n",
    "                   roi_id=-1-i_roi, valid_roi=True)\n",
    "    traditional_roi_list.append(roi)\n",
    "traditional_roi_dict = create_dict_of_rois(traditional_roi_list, norm=-1, offset=-1)\n",
    "del raw_roi\n",
    "del traditional_roi_list"
   ]
  },
  {
   "cell_type": "code",
   "execution_count": null,
   "id": "cd588233",
   "metadata": {},
   "outputs": [],
   "source": []
  },
  {
   "cell_type": "code",
   "execution_count": null,
   "id": "c866c350",
   "metadata": {},
   "outputs": [],
   "source": [
    "%%time\n",
    "examiner = ROIExaminer(movie_path)"
   ]
  },
  {
   "cell_type": "code",
   "execution_count": null,
   "id": "9d692664",
   "metadata": {},
   "outputs": [],
   "source": [
    "roi_sets = []\n",
    "roi_sets.append(((255,0,0), list(denoised_roi_dict.values())))\n",
    "roi_sets.append(((0,255,0), list(traditional_roi_dict.values())))"
   ]
  },
  {
   "cell_type": "code",
   "execution_count": null,
   "id": "201d665e",
   "metadata": {},
   "outputs": [],
   "source": [
    "%%time\n",
    "examiner.load_rois_to_compare(roi_sets)"
   ]
  },
  {
   "cell_type": "code",
   "execution_count": null,
   "id": "a0c8e108",
   "metadata": {},
   "outputs": [],
   "source": [
    "%%time\n",
    "fig, ax = plt.subplots(1,1, figsize=(20,20))\n",
    "examiner.plot_rois([0,1], ax, labels=True)"
   ]
  },
  {
   "cell_type": "code",
   "execution_count": null,
   "id": "ca6b262c",
   "metadata": {},
   "outputs": [],
   "source": []
  },
  {
   "cell_type": "code",
   "execution_count": null,
   "id": "d5a9704e",
   "metadata": {},
   "outputs": [],
   "source": []
  },
  {
   "cell_type": "code",
   "execution_count": null,
   "id": "8d067bd6",
   "metadata": {},
   "outputs": [],
   "source": [
    "%%time\n",
    "fig, ax = plt.subplots(1,1, figsize=(20,20))\n",
    "examiner.plot_distinct_rois([0,1], ax, labels=True)"
   ]
  },
  {
   "cell_type": "code",
   "execution_count": null,
   "id": "4fad9bdc",
   "metadata": {},
   "outputs": [],
   "source": []
  },
  {
   "cell_type": "code",
   "execution_count": null,
   "id": "e2d3f15a",
   "metadata": {},
   "outputs": [],
   "source": [
    "fig, axes = plt.subplots(1,2,figsize=(30,30))\n",
    "examiner.plot_rois([0,1],axes[0],labels=True, alpha=1.0)\n",
    "examiner.plot_distinct_rois([0,1],axes[1],labels=True, alpha=1.0)"
   ]
  },
  {
   "cell_type": "code",
   "execution_count": null,
   "id": "86d50c43",
   "metadata": {},
   "outputs": [],
   "source": []
  },
  {
   "cell_type": "code",
   "execution_count": null,
   "id": "93c5de50",
   "metadata": {},
   "outputs": [],
   "source": [
    "fig, axes = plt.subplots(1,2,figsize=(30,30))\n",
    "examiner.plot_rois([0,1],axes[0],labels=True, alpha=1.0)\n",
    "examiner.plot_overlapping_rois([0,1],axes[1],labels=True, alpha=1.0)"
   ]
  },
  {
   "cell_type": "code",
   "execution_count": null,
   "id": "d0ae0f62",
   "metadata": {},
   "outputs": [],
   "source": []
  },
  {
   "cell_type": "code",
   "execution_count": null,
   "id": "885866db",
   "metadata": {},
   "outputs": [],
   "source": []
  },
  {
   "cell_type": "code",
   "execution_count": null,
   "id": "729fc227",
   "metadata": {},
   "outputs": [],
   "source": [
    "%%time\n",
    "examiner.plot_thumbnail_and_trace(-23)\n",
    "examiner.plot_thumbnail_and_trace(45)\n",
    "examiner.plot_thumbnail_and_trace(55)"
   ]
  },
  {
   "cell_type": "code",
   "execution_count": null,
   "id": "92db9ab3",
   "metadata": {},
   "outputs": [],
   "source": []
  },
  {
   "cell_type": "code",
   "execution_count": null,
   "id": "c56ec9ba",
   "metadata": {
    "scrolled": true
   },
   "outputs": [],
   "source": [
    "ophys_movie = OphysMovie(str(movie_path.absolute()),\n",
    "                         motion_border={'x0':0, 'x1':0, 'y0':0, 'y1':0})"
   ]
  },
  {
   "cell_type": "code",
   "execution_count": null,
   "id": "134b2740",
   "metadata": {
    "scrolled": true
   },
   "outputs": [],
   "source": [
    "%%time\n",
    "ophys_movie.load_movie_data()"
   ]
  },
  {
   "cell_type": "code",
   "execution_count": null,
   "id": "208cc5c6",
   "metadata": {
    "scrolled": true
   },
   "outputs": [],
   "source": [
    "%%time\n",
    "max_img = ophys_movie._data.max(axis=0)"
   ]
  },
  {
   "cell_type": "code",
   "execution_count": null,
   "id": "c7fe5061",
   "metadata": {
    "scrolled": true
   },
   "outputs": [],
   "source": [
    "fig = plt.figure(figsize=(20,20))\n",
    "plt.imshow(max_img, cmap='gray')"
   ]
  },
  {
   "cell_type": "code",
   "execution_count": null,
   "id": "eb77184e",
   "metadata": {
    "scrolled": true
   },
   "outputs": [],
   "source": [
    "%%time\n",
    "max_img_rgb = ophys_movie.get_max_rgb()"
   ]
  },
  {
   "cell_type": "code",
   "execution_count": null,
   "id": "6630f10d",
   "metadata": {
    "scrolled": true
   },
   "outputs": [],
   "source": []
  },
  {
   "cell_type": "code",
   "execution_count": null,
   "id": "86f5c37b",
   "metadata": {
    "scrolled": true
   },
   "outputs": [],
   "source": [
    "fig = plt.figure(figsize=(20,20))\n",
    "plt.imshow(max_img_rgb)"
   ]
  },
  {
   "cell_type": "code",
   "execution_count": null,
   "id": "60778089",
   "metadata": {
    "scrolled": true
   },
   "outputs": [],
   "source": [
    "new_img = add_roi_boundaries_to_img(max_img_rgb,\n",
    "                                    roi_list=denoised_roi_dict.values(),\n",
    "                                    alpha=0.5,\n",
    "                                    color=(255,0,0))"
   ]
  },
  {
   "cell_type": "code",
   "execution_count": null,
   "id": "2e4ead50",
   "metadata": {
    "scrolled": true
   },
   "outputs": [],
   "source": [
    "new_img = add_roi_boundaries_to_img(new_img,\n",
    "                                    roi_list=traditional_roi_dict.values(),\n",
    "                                    alpha=0.5,\n",
    "                                    color=(0,255,0))"
   ]
  },
  {
   "cell_type": "code",
   "execution_count": null,
   "id": "de833d73",
   "metadata": {
    "scrolled": true
   },
   "outputs": [],
   "source": [
    "plt.figure(figsize=(20,20))\n",
    "plt.imshow(new_img)"
   ]
  },
  {
   "cell_type": "code",
   "execution_count": null,
   "id": "67431adc",
   "metadata": {
    "scrolled": true
   },
   "outputs": [],
   "source": [
    "%%time\n",
    "denoised_traces = ophys_movie.get_trace(denoised_roi_list)"
   ]
  },
  {
   "cell_type": "code",
   "execution_count": null,
   "id": "a423f510",
   "metadata": {
    "scrolled": true
   },
   "outputs": [],
   "source": [
    "%%time\n",
    "traditional_traces = ophys_movie.get_trace(traditional_roi_list)"
   ]
  },
  {
   "cell_type": "code",
   "execution_count": null,
   "id": "f572ec13",
   "metadata": {
    "scrolled": true
   },
   "outputs": [],
   "source": [
    "fig, ax = plt.subplots(1,1, figsize=(20,20))\n",
    "ax.imshow(new_img)\n",
    "for roi in denoised_roi_dict.values():\n",
    "    c_r = 0\n",
    "    c_c = 0\n",
    "    n = 0\n",
    "    mask = roi.mask_matrix\n",
    "    for ic in range(roi.width):\n",
    "        for ir in range(roi.height):\n",
    "            if mask[ir, ic]:\n",
    "                n += 1\n",
    "                c_r += ir+roi.y0\n",
    "                c_c += ic+roi.x0\n",
    "    c_r /= n\n",
    "    c_c /= n\n",
    "    ax.text(c_c, c_r,\n",
    "            f'{roi.roi_id}',\n",
    "            color='cyan')"
   ]
  },
  {
   "cell_type": "code",
   "execution_count": null,
   "id": "996bf72a",
   "metadata": {
    "scrolled": true
   },
   "outputs": [],
   "source": [
    "def find_interesting_timesteps(trace):\n",
    "    raw_mu = np.mean(trace)\n",
    "    raw_sig = np.std(trace, ddof=1)\n",
    "    first_clip = np.where(np.abs(trace-raw_mu)<raw_sig)\n",
    "    median = np.median(trace[first_clip])\n",
    "    sig = np.std(trace[first_clip], ddof=1)\n",
    "\n",
    "    possible = np.where(trace>median+3*sig)\n",
    "    return possible"
   ]
  },
  {
   "cell_type": "code",
   "execution_count": null,
   "id": "04be698d",
   "metadata": {
    "scrolled": true
   },
   "outputs": [],
   "source": [
    "roi_lookup = {}\n",
    "for roi in denoised_roi_list:\n",
    "    roi_lookup[roi.roi_id]= roi"
   ]
  },
  {
   "cell_type": "code",
   "execution_count": null,
   "id": "1a4a8dd6",
   "metadata": {
    "scrolled": true
   },
   "outputs": [],
   "source": [
    "#21\n",
    "#56\n",
    "\n",
    "roi_id = 25\n",
    "\n",
    "fig, ax = plt.subplots(1,1, figsize=(20,10))\n",
    "tr = denoised_traces['roi'][roi_id]['signal']\n",
    "tt = np.arange(len(tr))\n",
    "curious = find_interesting_timesteps(tr)\n",
    "ax.plot(tt,tr)\n",
    "ax.scatter(tt[curious], tr[curious], color='r')\n",
    "#ax.set_ylim(350, 550)\n",
    "#ax.axhline(med, color='green')\n",
    "for ix in range(5000, len(tt), 5000):\n",
    "    ax.axvline(ix, color='red', linestyle='--')"
   ]
  },
  {
   "cell_type": "code",
   "execution_count": null,
   "id": "bd19cd9c",
   "metadata": {
    "scrolled": true
   },
   "outputs": [],
   "source": []
  },
  {
   "cell_type": "code",
   "execution_count": null,
   "id": "f174c628",
   "metadata": {
    "scrolled": true
   },
   "outputs": [],
   "source": []
  },
  {
   "cell_type": "code",
   "execution_count": null,
   "id": "2b0b0859",
   "metadata": {
    "scrolled": true
   },
   "outputs": [],
   "source": [
    "\n",
    "thumbnail = roi_thumbnail(ophys_movie, roi_lookup[roi_id], np.arange(35000, tt.max(),dtype=int),\n",
    "                          reducer=np.max)"
   ]
  },
  {
   "cell_type": "code",
   "execution_count": null,
   "id": "8c8aecc9",
   "metadata": {
    "scrolled": true
   },
   "outputs": [],
   "source": [
    "fig, ax = plt.subplots(1,1,figsize=(20,20))\n",
    "ax.imshow(thumbnail)"
   ]
  },
  {
   "cell_type": "code",
   "execution_count": null,
   "id": "b0f4bb89",
   "metadata": {
    "scrolled": true
   },
   "outputs": [],
   "source": [
    "ophys_movie.get_max_rgb().max()"
   ]
  },
  {
   "cell_type": "code",
   "execution_count": null,
   "id": "15447fb9",
   "metadata": {
    "scrolled": true
   },
   "outputs": [],
   "source": []
  },
  {
   "cell_type": "code",
   "execution_count": null,
   "id": "fa825631",
   "metadata": {
    "scrolled": true
   },
   "outputs": [],
   "source": []
  },
  {
   "cell_type": "code",
   "execution_count": null,
   "id": "8197a9e3",
   "metadata": {
    "scrolled": true
   },
   "outputs": [],
   "source": [
    "def plot_thumbnail_and_trace(fig, movie, roi, timestamps=None, color=(255,0,0)):\n",
    "    fig = plt.figure(constrained_layout=True, figsize=(30,10))\n",
    "\n",
    "    trace = movie.get_trace([roi])['roi'][roi.roi_id]['signal']\n",
    "\n",
    "    grid = gridspec.GridSpec(1, 4, figure=fig)\n",
    "    thumbnail_axis = fig.add_subplot(grid[0,0])\n",
    "    trace_axis = fig.add_subplot(grid[0,1:])\n",
    "\n",
    "    thumbnail = roi_thumbnail(movie, roi,\n",
    "                              timestamps=timestamps,\n",
    "                              reducer=np.max,\n",
    "                              roi_color=color)\n",
    "    thumbnail_axis.imshow(thumbnail)\n",
    "    thumbnail_axis.set_title(f'roi {roi.roi_id}', fontsize=30)\n",
    "    thumbnail_axis.tick_params(axis='both', labelsize=0)\n",
    "    tt = np.arange(len(trace))\n",
    "    tmin = trace[:-1000].min()\n",
    "    tmax = trace.max()\n",
    "    trace_axis.plot(tt, trace,\n",
    "                    color='#%02x%02x%02x' % color)\n",
    "    trace_axis.set_ylim(tmin, tmax)\n",
    "    trace_axis.tick_params(axis='both',labelsize=20)"
   ]
  },
  {
   "cell_type": "code",
   "execution_count": null,
   "id": "9f76fa33",
   "metadata": {
    "scrolled": false
   },
   "outputs": [],
   "source": [
    "%%time\n",
    "\n",
    "plot_thumbnail_and_trace(fig, ophys_movie, denoised_roi_dict[16])\n",
    "plot_thumbnail_and_trace(fig, ophys_movie, denoised_roi_dict[28])\n",
    "plot_thumbnail_and_trace(fig, ophys_movie, denoised_roi_dict[51])\n",
    "plot_thumbnail_and_trace(fig, ophys_movie, denoised_roi_dict[55])\n",
    "plot_thumbnail_and_trace(fig, ophys_movie, denoised_roi_dict[29])\n",
    "\n",
    "#display(fig)"
   ]
  },
  {
   "cell_type": "code",
   "execution_count": null,
   "id": "5f71289d",
   "metadata": {
    "scrolled": true
   },
   "outputs": [],
   "source": []
  }
 ],
 "metadata": {
  "kernelspec": {
   "display_name": "Python 3",
   "language": "python",
   "name": "python3"
  },
  "language_info": {
   "codemirror_mode": {
    "name": "ipython",
    "version": 3
   },
   "file_extension": ".py",
   "mimetype": "text/x-python",
   "name": "python",
   "nbconvert_exporter": "python",
   "pygments_lexer": "ipython3",
   "version": "3.9.4"
  }
 },
 "nbformat": 4,
 "nbformat_minor": 5
}
