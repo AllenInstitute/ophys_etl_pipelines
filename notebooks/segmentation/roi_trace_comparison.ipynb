{
 "cells": [
  {
   "cell_type": "code",
   "execution_count": 1,
   "id": "f45ce3c7",
   "metadata": {
    "scrolled": true
   },
   "outputs": [],
   "source": [
    "%matplotlib inline\n",
    "import matplotlib.pyplot as plt\n",
    "import matplotlib.gridspec as gridspec"
   ]
  },
  {
   "cell_type": "code",
   "execution_count": 2,
   "id": "7a35b624",
   "metadata": {
    "scrolled": true
   },
   "outputs": [],
   "source": [
    "import pathlib\n",
    "import json\n",
    "import numpy as np\n",
    "from ophys_etl.modules.decrosstalk.ophys_plane import OphysROI, OphysMovie\n",
    "from ophys_etl.modules.decrosstalk.ophys_plane import find_overlapping_roi_pairs\n",
    "from ophys_etl.modules.segmentation.qc_utils.roi_utils import ROIExaminer\n",
    "from ophys_etl.modules.segmentation.qc_utils.roi_utils import add_roi_boundaries_to_img\n",
    "from ophys_etl.modules.segmentation.qc_utils.roi_utils import roi_thumbnail"
   ]
  },
  {
   "cell_type": "code",
   "execution_count": 4,
   "id": "252aeab1",
   "metadata": {
    "scrolled": true
   },
   "outputs": [],
   "source": [
    "data_dir = pathlib.Path('/allen/programs/braintv/workgroups/nc-ophys/danielk/deepinterpolation/experiments/ophys_experiment_785569447')\n",
    "assert data_dir.is_dir()"
   ]
  },
  {
   "cell_type": "code",
   "execution_count": 5,
   "id": "87239aa5",
   "metadata": {
    "scrolled": true
   },
   "outputs": [],
   "source": [
    "movie_path = data_dir / 'denoised.h5'\n",
    "roi_path = data_dir / 'denoised_segmentation_output.json'\n",
    "assert movie_path.is_file()\n",
    "assert roi_path.is_file()"
   ]
  },
  {
   "cell_type": "code",
   "execution_count": null,
   "id": "bceb6ebe",
   "metadata": {
    "scrolled": true
   },
   "outputs": [],
   "source": []
  },
  {
   "cell_type": "code",
   "execution_count": 6,
   "id": "52589cbd",
   "metadata": {
    "scrolled": true
   },
   "outputs": [],
   "source": [
    "def create_dict_of_rois(roi_list, norm=1, offset=0):\n",
    "    dex = []\n",
    "    for roi in roi_list:\n",
    "        r = np.sqrt(roi.x0**2+roi.y0**2)\n",
    "        theta = np.arctan2(roi.y0, roi.x0)\n",
    "        if theta<0.0:\n",
    "            theta += 2.0*np.pi\n",
    "        dex.append(r+theta)\n",
    "    sorted_dex = np.argsort(dex)\n",
    "    new_roi_dict = {}\n",
    "    \n",
    "    ct = 0\n",
    "    for ct, ii in enumerate(sorted_dex):\n",
    "        old_roi = roi_list[ii]\n",
    "        new_roi = OphysROI(roi_id=int(norm*ct)+offset,\n",
    "                           x0=old_roi.x0,\n",
    "                           y0=old_roi.y0,\n",
    "                           width=old_roi.width,\n",
    "                           height=old_roi.height,\n",
    "                           mask_matrix=old_roi.mask_matrix,\n",
    "                           valid_roi=True)\n",
    "        assert new_roi.roi_id not in new_roi_dict\n",
    "        assert new_roi.x0==old_roi.x0\n",
    "        assert new_roi.y0==new_roi.y0\n",
    "        new_roi_dict[new_roi.roi_id] = new_roi\n",
    "    return new_roi_dict"
   ]
  },
  {
   "cell_type": "code",
   "execution_count": null,
   "id": "2d956a7a",
   "metadata": {
    "scrolled": true
   },
   "outputs": [],
   "source": []
  },
  {
   "cell_type": "code",
   "execution_count": 7,
   "id": "4f0c3b1b",
   "metadata": {
    "scrolled": true
   },
   "outputs": [],
   "source": [
    "with open(roi_path, 'rb') as in_file:\n",
    "    raw_roi = json.load(in_file)\n",
    "\n",
    "denoised_roi_list = []\n",
    "for i_roi, roi_data in enumerate(raw_roi):\n",
    "    roi = OphysROI(height=roi_data['height'],\n",
    "                   width=roi_data['width'],\n",
    "                   mask_matrix=roi_data['mask_matrix'],\n",
    "                   x0=roi_data['x'],\n",
    "                   y0=roi_data['y'],\n",
    "                   roi_id=i_roi, valid_roi=True)\n",
    "    denoised_roi_list.append(roi)\n",
    "denoised_roi_dict = create_dict_of_rois(denoised_roi_list)\n",
    "del denoised_roi_list\n",
    "del raw_roi"
   ]
  },
  {
   "cell_type": "code",
   "execution_count": 8,
   "id": "e6ad33a5",
   "metadata": {
    "scrolled": true
   },
   "outputs": [
    {
     "ename": "FileNotFoundError",
     "evalue": "[Errno 2] No such file or directory: '/allen/programs/braintv/workgroups/nc-ophys/danielk/deepinterpolation/experiments/ophys_experiment_785569447/OPHYS_EXTRACT_TRACES_QUEUE_1048483611_input.json'",
     "output_type": "error",
     "traceback": [
      "\u001b[0;31m---------------------------------------------------------------------------\u001b[0m",
      "\u001b[0;31mFileNotFoundError\u001b[0m                         Traceback (most recent call last)",
      "\u001b[0;32m<ipython-input-8-92daa1782a4a>\u001b[0m in \u001b[0;36m<module>\u001b[0;34m\u001b[0m\n\u001b[1;32m      1\u001b[0m \u001b[0mtraditional_roi_list\u001b[0m \u001b[0;34m=\u001b[0m \u001b[0;34m[\u001b[0m\u001b[0;34m]\u001b[0m\u001b[0;34m\u001b[0m\u001b[0;34m\u001b[0m\u001b[0m\n\u001b[1;32m      2\u001b[0m \u001b[0minput_json_path\u001b[0m \u001b[0;34m=\u001b[0m \u001b[0mdata_dir\u001b[0m \u001b[0;34m/\u001b[0m \u001b[0;34m'OPHYS_EXTRACT_TRACES_QUEUE_1048483611_input.json'\u001b[0m\u001b[0;34m\u001b[0m\u001b[0;34m\u001b[0m\u001b[0m\n\u001b[0;32m----> 3\u001b[0;31m \u001b[0;32mwith\u001b[0m \u001b[0mopen\u001b[0m\u001b[0;34m(\u001b[0m\u001b[0minput_json_path\u001b[0m\u001b[0;34m,\u001b[0m \u001b[0;34m'rb'\u001b[0m\u001b[0;34m)\u001b[0m \u001b[0;32mas\u001b[0m \u001b[0min_file\u001b[0m\u001b[0;34m:\u001b[0m\u001b[0;34m\u001b[0m\u001b[0;34m\u001b[0m\u001b[0m\n\u001b[0m\u001b[1;32m      4\u001b[0m     \u001b[0mraw_roi\u001b[0m \u001b[0;34m=\u001b[0m \u001b[0mjson\u001b[0m\u001b[0;34m.\u001b[0m\u001b[0mload\u001b[0m\u001b[0;34m(\u001b[0m\u001b[0min_file\u001b[0m\u001b[0;34m)\u001b[0m\u001b[0;34m\u001b[0m\u001b[0;34m\u001b[0m\u001b[0m\n\u001b[1;32m      5\u001b[0m \u001b[0;32mfor\u001b[0m \u001b[0mi_roi\u001b[0m\u001b[0;34m,\u001b[0m \u001b[0mroi_data\u001b[0m \u001b[0;32min\u001b[0m \u001b[0menumerate\u001b[0m\u001b[0;34m(\u001b[0m\u001b[0mraw_roi\u001b[0m\u001b[0;34m[\u001b[0m\u001b[0;34m'rois'\u001b[0m\u001b[0;34m]\u001b[0m\u001b[0;34m)\u001b[0m\u001b[0;34m:\u001b[0m\u001b[0;34m\u001b[0m\u001b[0;34m\u001b[0m\u001b[0m\n",
      "\u001b[0;31mFileNotFoundError\u001b[0m: [Errno 2] No such file or directory: '/allen/programs/braintv/workgroups/nc-ophys/danielk/deepinterpolation/experiments/ophys_experiment_785569447/OPHYS_EXTRACT_TRACES_QUEUE_1048483611_input.json'"
     ]
    }
   ],
   "source": [
    "traditional_roi_list = []\n",
    "input_json_path = data_dir / 'OPHYS_EXTRACT_TRACES_QUEUE_1048483611_input.json'\n",
    "with open(input_json_path, 'rb') as in_file:\n",
    "    raw_roi = json.load(in_file)\n",
    "for i_roi, roi_data in enumerate(raw_roi['rois']):\n",
    "    assert i_roi>=0\n",
    "    roi = OphysROI(height=roi_data['height'],\n",
    "                   width=roi_data['width'],\n",
    "                   mask_matrix=roi_data['mask'],\n",
    "                   x0=roi_data['x'],\n",
    "                   y0=roi_data['y'],\n",
    "                   roi_id=-1-i_roi, valid_roi=True)\n",
    "    traditional_roi_list.append(roi)\n",
    "traditional_roi_dict = create_dict_of_rois(traditional_roi_list, norm=-1, offset=-1)\n",
    "del raw_roi\n",
    "del traditional_roi_list"
   ]
  },
  {
   "cell_type": "code",
   "execution_count": null,
   "id": "817ffb8f",
   "metadata": {},
   "outputs": [],
   "source": []
  },
  {
   "cell_type": "code",
   "execution_count": null,
   "id": "2e5ac9ac",
   "metadata": {},
   "outputs": [],
   "source": [
    "%%time\n",
    "examiner = ROIExaminer(movie_path)"
   ]
  },
  {
   "cell_type": "code",
   "execution_count": null,
   "id": "8b7b18c7",
   "metadata": {},
   "outputs": [],
   "source": [
    "roi_sets = []\n",
    "roi_sets.append(((255,0,0), list(denoised_roi_dict.values())))\n",
    "roi_sets.append(((0,255,0), list(traditional_roi_dict.values())))"
   ]
  },
  {
   "cell_type": "code",
   "execution_count": null,
   "id": "2c379689",
   "metadata": {},
   "outputs": [],
   "source": [
    "%%time\n",
    "examiner.load_rois_to_compare(roi_sets)"
   ]
  },
  {
   "cell_type": "code",
   "execution_count": null,
   "id": "998e0b8f",
   "metadata": {},
   "outputs": [],
   "source": [
    "%%time\n",
    "fig, ax = plt.subplots(1,1, figsize=(20,20))\n",
    "examiner.plot_rois([0,1], ax, labels=True)"
   ]
  },
  {
   "cell_type": "code",
   "execution_count": null,
   "id": "7d5e894c",
   "metadata": {},
   "outputs": [],
   "source": []
  },
  {
   "cell_type": "code",
   "execution_count": null,
   "id": "233ab739",
   "metadata": {},
   "outputs": [],
   "source": []
  },
  {
   "cell_type": "code",
   "execution_count": null,
   "id": "a7df8ccc",
   "metadata": {},
   "outputs": [],
   "source": [
    "%%time\n",
    "fig, ax = plt.subplots(1,1, figsize=(20,20))\n",
    "examiner.plot_distinct_rois([0,1], ax, labels=True)"
   ]
  },
  {
   "cell_type": "code",
   "execution_count": null,
   "id": "7146ba42",
   "metadata": {},
   "outputs": [],
   "source": []
  },
  {
   "cell_type": "code",
   "execution_count": null,
   "id": "86b6a844",
   "metadata": {},
   "outputs": [],
   "source": [
    "fig, axes = plt.subplots(1,2,figsize=(30,30))\n",
    "examiner.plot_rois([0,1],axes[0],labels=True, alpha=1.0)\n",
    "examiner.plot_distinct_rois([0,1],axes[1],labels=True, alpha=1.0)"
   ]
  },
  {
   "cell_type": "code",
   "execution_count": null,
   "id": "17c05c05",
   "metadata": {},
   "outputs": [],
   "source": []
  },
  {
   "cell_type": "code",
   "execution_count": null,
   "id": "a16b0a4b",
   "metadata": {},
   "outputs": [],
   "source": [
    "fig, axes = plt.subplots(1,2,figsize=(30,30))\n",
    "examiner.plot_rois([0,1],axes[0],labels=True, alpha=1.0)\n",
    "examiner.plot_overlapping_rois([0,1],axes[1],labels=True, alpha=1.0)"
   ]
  },
  {
   "cell_type": "code",
   "execution_count": null,
   "id": "67ca6583",
   "metadata": {},
   "outputs": [],
   "source": []
  },
  {
   "cell_type": "code",
   "execution_count": null,
   "id": "3161bf94",
   "metadata": {},
   "outputs": [],
   "source": []
  },
  {
   "cell_type": "code",
   "execution_count": null,
   "id": "fb3cbbac",
   "metadata": {},
   "outputs": [],
   "source": [
    "%%time\n",
    "examiner.plot_thumbnail_and_trace(-23)\n",
    "examiner.plot_thumbnail_and_trace(45)\n",
    "examiner.plot_thumbnail_and_trace(55)"
   ]
  },
  {
   "cell_type": "code",
   "execution_count": null,
   "id": "f5903809",
   "metadata": {},
   "outputs": [],
   "source": []
  }
 ],
 "metadata": {
  "kernelspec": {
   "display_name": "myenv",
   "language": "python",
   "name": "myenv"
  },
  "language_info": {
   "codemirror_mode": {
    "name": "ipython",
    "version": 3
   },
   "file_extension": ".py",
   "mimetype": "text/x-python",
   "name": "python",
   "nbconvert_exporter": "python",
   "pygments_lexer": "ipython3",
   "version": "3.8.8"
  }
 },
 "nbformat": 4,
 "nbformat_minor": 5
}
