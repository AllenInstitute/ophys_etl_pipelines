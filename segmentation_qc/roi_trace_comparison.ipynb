{
 "cells": [
  {
   "cell_type": "code",
   "execution_count": null,
   "id": "5e6571da",
   "metadata": {},
   "outputs": [],
   "source": [
    "%matplotlib inline\n",
    "import matplotlib.pyplot as plt"
   ]
  },
  {
   "cell_type": "code",
   "execution_count": null,
   "id": "46aa1c9b",
   "metadata": {},
   "outputs": [],
   "source": [
    "import pathlib\n",
    "import json\n",
    "import numpy as np\n",
    "from ophys_etl.modules.decrosstalk.ophys_plane import OphysROI, OphysMovie"
   ]
  },
  {
   "cell_type": "code",
   "execution_count": null,
   "id": "3f251289",
   "metadata": {},
   "outputs": [],
   "source": [
    "data_dir = pathlib.Path('/Users/scott.daniel/Pika/deep_interpolation/data')\n",
    "assert data_dir.is_dir()"
   ]
  },
  {
   "cell_type": "code",
   "execution_count": null,
   "id": "9cd98783",
   "metadata": {},
   "outputs": [],
   "source": [
    "movie_path = data_dir / 'denoised.h5'\n",
    "roi_path = data_dir / 'denoised_segmentation_output.json'\n",
    "assert movie_path.is_file()\n",
    "assert roi_path.is_file()"
   ]
  },
  {
   "cell_type": "code",
   "execution_count": null,
   "id": "6b38de64",
   "metadata": {},
   "outputs": [],
   "source": [
    "with open(roi_path, 'rb') as in_file:\n",
    "    raw_roi = json.load(in_file)\n",
    "\n",
    "roi_list = []\n",
    "for i_roi, roi_data in enumerate(raw_roi):\n",
    "    roi = OphysROI(height=roi_data['height'],\n",
    "                   width=roi_data['width'],\n",
    "                   mask_matrix=roi_data['mask_matrix'],\n",
    "                   x0=roi_data['x'],\n",
    "                   y0=roi_data['y'],\n",
    "                   roi_id=i_roi, valid_roi=True)\n",
    "    roi_list.append(roi)"
   ]
  },
  {
   "cell_type": "code",
   "execution_count": null,
   "id": "8bea3524",
   "metadata": {},
   "outputs": [],
   "source": [
    "ophys_movie = OphysMovie(str(movie_path.absolute()),\n",
    "                         motion_border={'x0':0, 'x1':0, 'y0':0, 'y1':0})"
   ]
  },
  {
   "cell_type": "code",
   "execution_count": null,
   "id": "877c4f35",
   "metadata": {},
   "outputs": [],
   "source": [
    "%%time\n",
    "ophys_movie.load_movie_data()"
   ]
  },
  {
   "cell_type": "code",
   "execution_count": null,
   "id": "25d8b001",
   "metadata": {},
   "outputs": [],
   "source": [
    "%%time\n",
    "max_img = ophys_movie._data.max(axis=0)"
   ]
  },
  {
   "cell_type": "code",
   "execution_count": null,
   "id": "3e280676",
   "metadata": {},
   "outputs": [],
   "source": [
    "fig = plt.figure(figsize=(20,20))\n",
    "plt.imshow(max_img, cmap='gray')"
   ]
  },
  {
   "cell_type": "code",
   "execution_count": null,
   "id": "f36ac5c7",
   "metadata": {},
   "outputs": [],
   "source": [
    "max_img_rgb = np.zeros((512,512,3), dtype=int)\n",
    "imax = max_img.max()\n",
    "for ic in range(3):\n",
    "    max_img_rgb[:, :, ic] = np.round(255*(max_img[:,:]/imax)).astype(int)"
   ]
  },
  {
   "cell_type": "code",
   "execution_count": null,
   "id": "4d515d6a",
   "metadata": {},
   "outputs": [],
   "source": [
    "fig = plt.figure(figsize=(20,20))\n",
    "plt.imshow(max_img_rgb)"
   ]
  },
  {
   "cell_type": "code",
   "execution_count": null,
   "id": "692dc8e7",
   "metadata": {},
   "outputs": [],
   "source": [
    "alpha = 0.5\n",
    "for roi in roi_list:\n",
    "    bdry = roi.boundary_mask\n",
    "    mask = roi.mask_matrix\n",
    "    for icol in range(roi.width):\n",
    "        for irow in range(roi.height):\n",
    "            ic = None\n",
    "            if bdry[irow, icol]:\n",
    "                ic = 0\n",
    "            elif mask[irow, icol]:\n",
    "                continue\n",
    "            else:\n",
    "                continue\n",
    "            orig = max_img_rgb[irow,icol,0]\n",
    "            xx = roi.x0+icol\n",
    "            yy = roi.y0+irow\n",
    "            #print(max_img_rgb[yy,xx,:])\n",
    "            #print(np.round(max_img_rgb[yy,xx,:]*alpha).astype(int))\n",
    "            max_img_rgb[yy,xx,:] = np.round(max_img_rgb[yy,xx,:]*(1.0-alpha)).astype(int)\n",
    "            max_img_rgb[yy,xx,ic] += np.round((alpha*255)).astype(int)\n",
    "            \n",
    "max_img_rgb = np.where(max_img_rgb<255, max_img_rgb, 255)"
   ]
  },
  {
   "cell_type": "code",
   "execution_count": null,
   "id": "3ddac7d9",
   "metadata": {},
   "outputs": [],
   "source": [
    "plt.figure(figsize=(20,20))\n",
    "plt.imshow(max_img_rgb)"
   ]
  },
  {
   "cell_type": "code",
   "execution_count": null,
   "id": "21763ea0",
   "metadata": {},
   "outputs": [],
   "source": []
  },
  {
   "cell_type": "code",
   "execution_count": null,
   "id": "38c10d68",
   "metadata": {},
   "outputs": [],
   "source": [
    "y = np.max(z, axis=0)\n"
   ]
  },
  {
   "cell_type": "code",
   "execution_count": null,
   "id": "690e2c08",
   "metadata": {},
   "outputs": [],
   "source": [
    "y.shape"
   ]
  },
  {
   "cell_type": "code",
   "execution_count": null,
   "id": "88bf4788",
   "metadata": {},
   "outputs": [],
   "source": [
    "y[2,1]"
   ]
  },
  {
   "cell_type": "code",
   "execution_count": null,
   "id": "108ac4ce",
   "metadata": {},
   "outputs": [],
   "source": [
    "z[:,2,1].max()"
   ]
  },
  {
   "cell_type": "code",
   "execution_count": null,
   "id": "e0d22ac4",
   "metadata": {},
   "outputs": [],
   "source": []
  }
 ],
 "metadata": {
  "kernelspec": {
   "display_name": "Python 3",
   "language": "python",
   "name": "python3"
  },
  "language_info": {
   "codemirror_mode": {
    "name": "ipython",
    "version": 3
   },
   "file_extension": ".py",
   "mimetype": "text/x-python",
   "name": "python",
   "nbconvert_exporter": "python",
   "pygments_lexer": "ipython3",
   "version": "3.9.4"
  }
 },
 "nbformat": 4,
 "nbformat_minor": 5
}
