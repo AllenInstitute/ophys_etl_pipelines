{
 "cells": [
  {
   "cell_type": "code",
   "execution_count": null,
   "id": "95224af8",
   "metadata": {},
   "outputs": [],
   "source": [
    "%matplotlib inline\n",
    "import numpy as np\n",
    "from IPython.display import display, Video\n",
    "\n",
    "from ophys_etl.modules.segmentation.qc_utils.classifier_utils import (\n",
    "    Classifier_ROISet)\n",
    "\n",
    "from ophys_etl.modules.segmentation.qc_utils.video_display_generator import (\n",
    "    VideoDisplayGenerator)\n",
    "\n",
    "video_gen = VideoDisplayGenerator()"
   ]
  },
  {
   "cell_type": "markdown",
   "id": "199d3b1e",
   "metadata": {},
   "source": [
    "The classifier runs off of an HDF5 file that contains some precomputed segmentation artifacts that are expensive to compute on the fly. The file contains video data, image data, and a set of ROIs produced by the segmenter."
   ]
  },
  {
   "cell_type": "code",
   "execution_count": null,
   "id": "823bdf89",
   "metadata": {},
   "outputs": [],
   "source": [
    "artifact_path='/Users/scott.daniel/Pika/ophys_etl_2/sfd_sandbox/artifacts/output.h5'"
   ]
  },
  {
   "cell_type": "markdown",
   "id": "be5863fa",
   "metadata": {},
   "source": [
    "The `log_path` kwarg used when instantiating the classifier is the path to a JSON file where lists of valid and invalid ROIs will be stored, along with the path to the artifact file that drove this labeling job.\n",
    "\n",
    "By default, the classifier will raise an exception if you try to overwrite an existing log file. If you really want to overrwrite an existing log file, instantiate the classifier with `clobber=True`"
   ]
  },
  {
   "cell_type": "code",
   "execution_count": null,
   "id": "597f09c2",
   "metadata": {},
   "outputs": [],
   "source": [
    "log_path = 'dummy_log.json'"
   ]
  },
  {
   "cell_type": "code",
   "execution_count": null,
   "id": "60e6bbb5",
   "metadata": {},
   "outputs": [],
   "source": [
    "classifier = Classifier_ROISet(artifact_path, log_path=log_path, clobber=True)"
   ]
  },
  {
   "cell_type": "markdown",
   "id": "7da1195a",
   "metadata": {},
   "source": [
    "Let's just start by viewing all of the ROIs in the field of view"
   ]
  },
  {
   "cell_type": "code",
   "execution_count": null,
   "id": "ec02c448",
   "metadata": {},
   "outputs": [],
   "source": [
    "display(classifier.get_summary_figure())"
   ]
  },
  {
   "cell_type": "markdown",
   "id": "36748238",
   "metadata": {},
   "source": [
    "By specifing an `origin` and a `frame_shape`, we can zoom in on a particular region in the field of view.\n",
    "\n",
    "The `label_rois` kwarg overplots the ROI IDs (used later) in the field of view. `fontsize` controls the size of these labels.\n",
    "\n",
    "**Note:** because of image processing conventions, `origin` and `frame_shape` are of the form `(rows, columns)`, which is the transpose of a more traditional `(x, y)` convention."
   ]
  },
  {
   "cell_type": "code",
   "execution_count": null,
   "id": "e4ff430f",
   "metadata": {},
   "outputs": [],
   "source": [
    "display(classifier.get_summary_figure(origin=(300,200), frame_shape=(90, 90), label_rois=True, fontsize=30))"
   ]
  },
  {
   "cell_type": "markdown",
   "id": "ddedea65",
   "metadata": {},
   "source": [
    "The classifier's `get_roi` method can select one of these ROIs by ROI ID and return it as an object with dedicated methods for producing trace plots, max projection plots, and thumbnail movies.\n",
    "\n",
    "As an example, let's get the ROI with ROI ID = 191"
   ]
  },
  {
   "cell_type": "code",
   "execution_count": null,
   "id": "740c2a8f",
   "metadata": {},
   "outputs": [],
   "source": [
    "roi = classifier.get_roi(191)"
   ]
  },
  {
   "cell_type": "markdown",
   "id": "0df5287e",
   "metadata": {},
   "source": [
    "`roi.get_trace_plot` will plot the trace of the ROI (the horizontal axis is unitless timesteps; the vertical axis is the average pixel value in the ROI at any given timestep)"
   ]
  },
  {
   "cell_type": "code",
   "execution_count": null,
   "id": "d8c7dcb5",
   "metadata": {},
   "outputs": [],
   "source": [
    "display(roi.get_trace_plot())"
   ]
  },
  {
   "cell_type": "markdown",
   "id": "f4b3038f",
   "metadata": {},
   "source": [
    "By passing in the `timesteps` kwarg, we can zoom in on a specific region of the trace"
   ]
  },
  {
   "cell_type": "code",
   "execution_count": null,
   "id": "faa9adf9",
   "metadata": {},
   "outputs": [],
   "source": [
    "display(roi.get_trace_plot(timesteps=np.arange(5000,7000)))"
   ]
  },
  {
   "cell_type": "markdown",
   "id": "4e0ffe81",
   "metadata": {},
   "source": [
    "`roi.get_max_projection` provides max projection images centered on the ROI. The following kwargs allow you to control what you seed.\n",
    "\n",
    "`padding`: an integer that controls how may pixels to either side are included in the field of view.\n",
    "`include_boundary`: if `True`, the boundary of *this* ROI will be plotted in red over the max projection image.\n",
    "`include_others`: if `True`, the boundary of all ROIs in the selected field of view will be plotted as well."
   ]
  },
  {
   "cell_type": "code",
   "execution_count": null,
   "id": "51c5ded9",
   "metadata": {},
   "outputs": [],
   "source": [
    "display(roi.get_max_projection(padding=32, include_boundary=False, include_others=False))"
   ]
  },
  {
   "cell_type": "code",
   "execution_count": null,
   "id": "6a06e81f",
   "metadata": {},
   "outputs": [],
   "source": [
    "display(roi.get_max_projection(padding=32, include_boundary=True, include_others=False))"
   ]
  },
  {
   "cell_type": "code",
   "execution_count": null,
   "id": "fa4e4900",
   "metadata": {},
   "outputs": [],
   "source": [
    "display(roi.get_max_projection(padding=32, include_boundary=True, include_others=True))"
   ]
  },
  {
   "cell_type": "markdown",
   "id": "b12d347d",
   "metadata": {},
   "source": [
    "`roi.get_thumbnail_video` will instantiate a thumbnail video that can be viewed in the notebook. It also accepts `include_boundary`, `include_others`, and `padding` kwargs. Additionally, it accepts the `timesteps` kwarg to select a specific window in time.\n",
    "\n",
    "As in the max projection image, the ROI in question is outlined in red. All other ROIs (if requested) are colored according a scheme that prevents bordering ROIs from sharing the same color.\n",
    "\n",
    "**Note:** The amount of time it takes to generate a thumbnail video depends on how many pixels are included in the field of view (`padding`) and how many timesteps are included. It is not recommended to generate a thumbnail video without specifying a limited number of `timesteps`.\n",
    "\n",
    "**Note:** Because of the way Jupyter notebooks work, the thumbnail video is written to a temp directory and then symlinked to the local directory of the notebook. The class that instantiates the thumbnail video is smart enough to delete the `mp4` file created by the thumbnail video generator when it passes out of scope. Because of this, the thumbnail video must be instantiated and then passed to `Video(**videogen.display_video(thumbnail_video))` as below. As soon as `thumbnail_video` goes out of scope, you will not be able to view that video without recreating it."
   ]
  },
  {
   "cell_type": "code",
   "execution_count": null,
   "id": "0ee86ba9",
   "metadata": {},
   "outputs": [],
   "source": [
    "%%time\n",
    "blank_thumbnail = roi.get_thumbnail_video(timesteps=np.arange(5000,7000),\n",
    "                                          padding=32,\n",
    "                                          include_boundary=False,\n",
    "                                          include_others=False)\n",
    "Video(**video_gen.display_video(blank_thumbnail))"
   ]
  },
  {
   "cell_type": "code",
   "execution_count": null,
   "id": "f74e0d16",
   "metadata": {},
   "outputs": [],
   "source": [
    "%%time\n",
    "just_roi_thumbnail = roi.get_thumbnail_video(timesteps=np.arange(5000,7000),\n",
    "                                          padding=32,\n",
    "                                          include_boundary=True,\n",
    "                                          include_others=False)\n",
    "Video(**video_gen.display_video(just_roi_thumbnail))"
   ]
  },
  {
   "cell_type": "code",
   "execution_count": null,
   "id": "00fbf0ea",
   "metadata": {},
   "outputs": [],
   "source": [
    "%%time\n",
    "all_roi_thumbnail = roi.get_thumbnail_video(timesteps=np.arange(5000,7000),\n",
    "                                          padding=32,\n",
    "                                          include_boundary=True,\n",
    "                                          include_others=True)\n",
    "Video(**video_gen.display_video(all_roi_thumbnail))"
   ]
  },
  {
   "cell_type": "markdown",
   "id": "cda34b97",
   "metadata": {},
   "source": [
    "The ROI class provides methods `mark_valid` and `mark_invalid` that will record the ROI as either valid or invalid in the log file you specified with your classifier.\n",
    "\n",
    "**No effort is made to prevent you from labeling the same ROI more than once.***"
   ]
  },
  {
   "cell_type": "code",
   "execution_count": null,
   "id": "8537a850",
   "metadata": {},
   "outputs": [],
   "source": [
    "roi.mark_valid()"
   ]
  },
  {
   "cell_type": "markdown",
   "id": "356bce88",
   "metadata": {},
   "source": [
    "As a demonstration, let's label a few more ROIs."
   ]
  },
  {
   "cell_type": "code",
   "execution_count": null,
   "id": "52cd2444",
   "metadata": {},
   "outputs": [],
   "source": [
    "roi = classifier.get_roi(672)\n",
    "roi.mark_invalid()\n",
    "\n",
    "roi = classifier.get_roi(616)\n",
    "roi.mark_invalid()\n",
    "\n",
    "roi = classifier.get_roi(71)\n",
    "roi.mark_valid()"
   ]
  },
  {
   "cell_type": "markdown",
   "id": "68fe4c65",
   "metadata": {},
   "source": [
    "We can see that this worked by using Pythons `json` module to read in our dummy log and see that these ROIs have been recorded accordingly."
   ]
  },
  {
   "cell_type": "code",
   "execution_count": null,
   "id": "86bbe310",
   "metadata": {},
   "outputs": [],
   "source": [
    "import json"
   ]
  },
  {
   "cell_type": "code",
   "execution_count": null,
   "id": "9a6da06f",
   "metadata": {},
   "outputs": [],
   "source": [
    "with open(log_path, 'rb') as in_file:\n",
    "    results = json.load(in_file)"
   ]
  },
  {
   "cell_type": "code",
   "execution_count": null,
   "id": "2689ff6c",
   "metadata": {},
   "outputs": [],
   "source": [
    "for roi in results['valid_rois']:\n",
    "    print(roi['id'], roi['valid'])"
   ]
  },
  {
   "cell_type": "code",
   "execution_count": null,
   "id": "2dc22bf6",
   "metadata": {},
   "outputs": [],
   "source": [
    "for roi in results['invalid_rois']:\n",
    "    print(roi['id'], roi['valid'])"
   ]
  },
  {
   "cell_type": "code",
   "execution_count": null,
   "id": "feaa7828",
   "metadata": {},
   "outputs": [],
   "source": []
  }
 ],
 "metadata": {
  "kernelspec": {
   "display_name": "Python 3",
   "language": "python",
   "name": "python3"
  },
  "language_info": {
   "codemirror_mode": {
    "name": "ipython",
    "version": 3
   },
   "file_extension": ".py",
   "mimetype": "text/x-python",
   "name": "python",
   "nbconvert_exporter": "python",
   "pygments_lexer": "ipython3",
   "version": "3.9.4"
  }
 },
 "nbformat": 4,
 "nbformat_minor": 5
}
