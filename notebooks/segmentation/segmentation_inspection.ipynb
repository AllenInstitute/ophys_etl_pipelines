{
 "cells": [
  {
   "cell_type": "code",
   "execution_count": 1,
   "metadata": {},
   "outputs": [],
   "source": [
    "%matplotlib widget\n",
    "\n",
    "import pandas as pd\n",
    "from pathlib import Path\n",
    "import matplotlib.pyplot as plt\n",
    "import ipywidgets as widgets"
   ]
  },
  {
   "cell_type": "code",
   "execution_count": null,
   "metadata": {},
   "outputs": [],
   "source": [
    "basedir = Path(\"/allen/programs/braintv/workgroups/nc-ophys/danielk/deepinterpolation/experiments\")\n",
    "experiment_ids = [785569470, 1048483611, 1048483613, 1048483616, 785569447,\n",
    "                  788422859, 795901850, 788422825, 795897800, 850517348,\n",
    "                  951980473, 951980484, 795901895, 806862946, 803965468,\n",
    "                  806928824]\n",
    "metadata_files = [basedir / f\"ophys_experiment_{i}\" / \"metadata.csv\" for i in experiment_ids]"
   ]
  },
  {
   "cell_type": "markdown",
   "metadata": {},
   "source": [
    "### Available Experiments"
   ]
  },
  {
   "cell_type": "code",
   "execution_count": null,
   "metadata": {},
   "outputs": [],
   "source": [
    "frames = pd.concat([pd.read_csv(file, header=None).set_index(0).T for file in metadata_files]).set_index(\"ophys_experiment_id\")\n",
    "frames[\"depth\"] = frames[\"depth\"].astype(int)\n",
    "frames = frames.sort_values(by=[\"code\", \"rig\", \"depth\"]).reset_index()\n",
    "display(frames)"
   ]
  },
  {
   "cell_type": "code",
   "execution_count": null,
   "metadata": {},
   "outputs": [],
   "source": [
    "df_per_row = [pd.DataFrame(i[1]).T for i in frames.iterrows()]\n",
    "col_widths = [max([len(f\"{i}\") for i in frames[c].values]) for c in frames.columns]\n",
    "options = [\"\".join([f\"{i:{w + 4}}\" for i, w in zip(k.values[0], col_widths)]) for k in df_per_row]\n",
    "eids = [int(i[\"ophys_experiment_id\"].values[0]) for i in df_per_row]\n",
    "values = [basedir / f\"ophys_experiment_{i}\" for i in eids]\n",
    "experiment_selector = widgets.Dropdown(\n",
    "    options=[(o, v) for o, v in zip(options, values)],\n",
    "    layout={'width': 'max-content'}, # If the items' names are long\n",
    "    description='Select experiment:',\n",
    "    disabled=False\n",
    ")\n",
    "display(experiment_selector)"
   ]
  },
  {
   "cell_type": "code",
   "execution_count": null,
   "metadata": {},
   "outputs": [],
   "source": [
    "def get_max_ave_projections(result_dir: Path):\n",
    "    nmax = result_dir / \"noised_maxp.png\"\n",
    "    navg = result_dir / \"noised_avgp.png\"\n",
    "    dnmax = result_dir / \"denoised_maxp.png\"\n",
    "    dnavg = result_dir / \"denoised_avgp.png\"\n",
    "\n",
    "    nmaxim = np.array(Image.open(nmax))\n",
    "    navgim = np.array(Image.open(navg))\n",
    "    dnmaxim = np.array(Image.open(dnmax))\n",
    "    dnavgim = np.array(Image.open(dnavg))\n",
    "\n",
    "    return nmaxim, dnmaxim, navgim, dnavgim"
   ]
  },
  {
   "cell_type": "code",
   "execution_count": null,
   "metadata": {},
   "outputs": [],
   "source": [
    "nrows =widgets.BoundedIntText(\n",
    "    value=1,\n",
    "    min=1,\n",
    "    max=3,\n",
    "    step=1,\n",
    "    description='# plot rows:',\n",
    "    disabled=False\n",
    ")\n",
    "ncols =widgets.BoundedIntText(\n",
    "    value=1,\n",
    "    min=1,\n",
    "    max=3,\n",
    "    step=1,\n",
    "    description='# plot columns:',\n",
    "    disabled=False\n",
    ")\n",
    "plot_layout_button = widgets.Button(\n",
    "    description='Update',\n",
    "    disabled=False,\n",
    "    button_style='', # 'success', 'info', 'warning', 'danger' or ''\n",
    "    tooltip='Click me',\n",
    "    icon='check' # (FontAwesome names without the `fa-` prefix)\n",
    ")\n",
    "rowcol = widgets.HBox([nrows, ncols, plot_layout_button])\n",
    "display(rowcol)"
   ]
  },
  {
   "cell_type": "code",
   "execution_count": 2,
   "metadata": {},
   "outputs": [
    {
     "data": {
      "application/vnd.jupyter.widget-view+json": {
       "model_id": "3b28c1d3cd92418181192078c7e13f76",
       "version_major": 2,
       "version_minor": 0
      },
      "text/plain": [
       "Canvas(toolbar=Toolbar(toolitems=[('Home', 'Reset original view', 'home', 'home'), ('Back', 'Back to previous …"
      ]
     },
     "metadata": {},
     "output_type": "display_data"
    }
   ],
   "source": [
    "fig, axes = plt.subplots(1, 1, clear=True, sharex=True, sharey=True)\n",
    "#def on_change(change):\n",
    "#    global fig\n",
    "#    global axes\n",
    "#    fig, axes = plt.subplots(nrows.value, ncols.value, clear=True, sharex=True, sharey=True)\n",
    "#plot_layout_button.on_click(on_change)"
   ]
  },
  {
   "cell_type": "code",
   "execution_count": null,
   "metadata": {},
   "outputs": [],
   "source": []
  }
 ],
 "metadata": {
  "kernelspec": {
   "display_name": "ophys_nb_env",
   "language": "python",
   "name": "ophys_nb_env"
  },
  "language_info": {
   "codemirror_mode": {
    "name": "ipython",
    "version": 3
   },
   "file_extension": ".py",
   "mimetype": "text/x-python",
   "name": "python",
   "nbconvert_exporter": "python",
   "pygments_lexer": "ipython3",
   "version": "3.8.5"
  }
 },
 "nbformat": 4,
 "nbformat_minor": 4
}
