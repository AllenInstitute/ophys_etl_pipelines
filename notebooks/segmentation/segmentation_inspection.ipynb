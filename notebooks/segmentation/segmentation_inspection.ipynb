{
 "cells": [
  {
   "cell_type": "code",
   "execution_count": null,
   "metadata": {},
   "outputs": [],
   "source": [
    "%matplotlib widget\n",
    "\n",
    "import pandas as pd\n",
    "from pathlib import Path\n",
    "import matplotlib.pyplot as plt\n",
    "import ipywidgets as widgets\n",
    "import json\n",
    "import numpy as np\n",
    "import h5py\n",
    "import multiprocessing\n",
    "import tempfile\n",
    "\n",
    "from IPython.display import Video\n",
    "\n",
    "from ophys_etl.types import ExtractROI\n",
    "from ophys_etl.modules.segmentation.qc_utils.roi_utils import convert_roi_keys\n",
    "from ophys_etl.modules.segmentation.qc_utils.video_generator import VideoGenerator\n",
    "from ophys_etl.modules.segmentation.qc_utils.video_display_generator import VideoDisplayGenerator\n",
    "from ophys_etl.modules.segmentation.processing_log import SegmentationProcessingLog\n",
    "\n",
    "from evaldb.reader import EvalDBReader\n",
    "import support_inspection_nb as support"
   ]
  },
  {
   "cell_type": "markdown",
   "metadata": {},
   "source": [
    "### **Sqlite DB interface for creating notebook inspection manifest**"
   ]
  },
  {
   "cell_type": "code",
   "execution_count": null,
   "metadata": {},
   "outputs": [],
   "source": [
    "sqlite_path = Path(\"/allen/aibs/informatics/danielk/segmentation_tracking.db\")\n",
    "dbreader = EvalDBReader(sqlite_path)"
   ]
  },
  {
   "cell_type": "code",
   "execution_count": null,
   "metadata": {},
   "outputs": [],
   "source": [
    "all_metadata = dbreader.get_all_metadata()\n",
    "all_metadata"
   ]
  },
  {
   "cell_type": "code",
   "execution_count": null,
   "metadata": {},
   "outputs": [],
   "source": [
    "ophys_experiment_id = 788422825\n",
    "inspection_manifest = dbreader.get_inspection_manifest(ophys_experiment_id)\n",
    "pd.DataFrame.from_records([inspection_manifest[\"metadata\"]])"
   ]
  },
  {
   "cell_type": "markdown",
   "metadata": {
    "tags": []
   },
   "source": [
    "### **inspection manifest specification**\n",
    "\n",
    "the above sqlite interface is designed to feed this inspection notebook with an inspection manifest.\n",
    "\n",
    "But, if one wants to manually specify inspection data sources, the format is:\n",
    "\n",
    "```\n",
    "inspection_manifest = {\n",
    "    \"metadata\": dictionary (not required) \n",
    "    \"videos\": list of strings that are paths to videos\n",
    "    \"backgrounds\": list of strings that are paths to png or pkl background images/graphs\n",
    "    \"processing_logs\": list of strings that are paths to hdf5 processing_logs\n",
    "```\n",
    "an empty one:\n",
    "```\n",
    "inspection_manifest = {\n",
    "    \"videos\": [],\n",
    "    \"backgrounds\": [],\n",
    "    \"processing_logs\": []}\n",
    "```"
   ]
  },
  {
   "cell_type": "markdown",
   "metadata": {},
   "source": [
    "### **ROI Viewer**"
   ]
  },
  {
   "cell_type": "code",
   "execution_count": null,
   "metadata": {},
   "outputs": [],
   "source": [
    "widgets.interact(support.roi_viewer, inspection_manifest=widgets.fixed(inspection_manifest), nrows=[1, 2, 3], ncols=[1, 2, 3]);"
   ]
  },
  {
   "cell_type": "markdown",
   "metadata": {},
   "source": [
    "### **Trace Viewer**"
   ]
  },
  {
   "cell_type": "code",
   "execution_count": null,
   "metadata": {},
   "outputs": [],
   "source": [
    "rois_dict, trace_widgets, roi_drops, movie_widget_list, trace_grouping = support.get_trace_selection_widgets(inspection_manifest)\n",
    "display(trace_widgets)\n",
    "b = widgets.interact_manual(support.trace_plot_callback,\n",
    "                            rois_dict=widgets.fixed(rois_dict),\n",
    "                            roi_drops=widgets.fixed(roi_drops),\n",
    "                            movie_widget_list=widgets.fixed(movie_widget_list),\n",
    "                            trace_grouping=widgets.fixed(trace_grouping),\n",
    "                            description=\"plot traces\")\n",
    "b.widget.children[0].description = \"plot traces\""
   ]
  },
  {
   "cell_type": "markdown",
   "metadata": {},
   "source": [
    "### **Video viewing**"
   ]
  },
  {
   "cell_type": "code",
   "execution_count": null,
   "metadata": {},
   "outputs": [],
   "source": [
    "movie_list = inspection_manifest[\"videos\"]"
   ]
  },
  {
   "cell_type": "code",
   "execution_count": null,
   "metadata": {},
   "outputs": [],
   "source": [
    "display_generator = VideoDisplayGenerator()"
   ]
  },
  {
   "cell_type": "code",
   "execution_count": null,
   "metadata": {},
   "outputs": [],
   "source": [
    "%%time\n",
    "video_generator = VideoGenerator(movie_list[0])"
   ]
  },
  {
   "cell_type": "markdown",
   "metadata": {},
   "source": [
    "Display full field of view"
   ]
  },
  {
   "cell_type": "code",
   "execution_count": null,
   "metadata": {},
   "outputs": [],
   "source": [
    "%%time\n",
    "full_fov = video_generator.get_thumbnail_video(origin=(0,0), frame_shape=None, quality=4)"
   ]
  },
  {
   "cell_type": "code",
   "execution_count": null,
   "metadata": {},
   "outputs": [],
   "source": [
    "%%time\n",
    "Video(**display_generator.display_video(full_fov, width=512, height=512))"
   ]
  },
  {
   "cell_type": "markdown",
   "metadata": {},
   "source": [
    "Get and display a random thumbnail by hand"
   ]
  },
  {
   "cell_type": "code",
   "execution_count": null,
   "metadata": {},
   "outputs": [],
   "source": [
    "%%time\n",
    "by_hand_thumbnail = video_generator.get_thumbnail_video(origin=(100, 200), frame_shape=(64, 64),\n",
    "                                                        quality=5)"
   ]
  },
  {
   "cell_type": "code",
   "execution_count": null,
   "metadata": {},
   "outputs": [],
   "source": [
    "%%time\n",
    "Video(**display_generator.display_video(by_hand_thumbnail))"
   ]
  },
  {
   "cell_type": "markdown",
   "metadata": {},
   "source": [
    "Get and display a thumbnail containing an ROI"
   ]
  },
  {
   "cell_type": "code",
   "execution_count": null,
   "metadata": {},
   "outputs": [],
   "source": [
    "keys = list(rois_dict.keys())\n",
    "raw_roi = rois_dict[keys[0]][6]"
   ]
  },
  {
   "cell_type": "code",
   "execution_count": null,
   "metadata": {},
   "outputs": [],
   "source": [
    "convert_roi_keys([raw_roi])[0].keys()"
   ]
  },
  {
   "cell_type": "code",
   "execution_count": null,
   "metadata": {},
   "outputs": [],
   "source": [
    "keys = list(rois_dict.keys())\n",
    "raw_roi = convert_roi_keys([rois_dict[keys[0]][6]])[0]\n",
    "roi = ExtractROI(x=raw_roi['x'], y=raw_roi['y'], width=raw_roi['width'], height=raw_roi['height'],\n",
    "                 mask=raw_roi['mask_matrix'])"
   ]
  },
  {
   "cell_type": "code",
   "execution_count": null,
   "metadata": {},
   "outputs": [],
   "source": [
    "%%time\n",
    "roi_thumbnail = video_generator.get_thumbnail_video_from_roi(roi, roi_color=(255,0,0), quality=9)"
   ]
  },
  {
   "cell_type": "code",
   "execution_count": null,
   "metadata": {},
   "outputs": [],
   "source": [
    "%%time\n",
    "Video(**display_generator.display_video(roi_thumbnail, width=512, height=512))"
   ]
  },
  {
   "cell_type": "markdown",
   "metadata": {},
   "source": [
    "Use padding kwarg to increase number of pixels on either side of the ROI"
   ]
  },
  {
   "cell_type": "code",
   "execution_count": null,
   "metadata": {},
   "outputs": [],
   "source": [
    "%%time\n",
    "padded_roi_thumbnail = video_generator.get_thumbnail_video_from_roi(roi, padding=20, roi_color=(255,0,0), quality=7)"
   ]
  },
  {
   "cell_type": "code",
   "execution_count": null,
   "metadata": {},
   "outputs": [],
   "source": [
    "%%time\n",
    "Video(**display_generator.display_video(padded_roi_thumbnail, width=512, height=512))"
   ]
  },
  {
   "cell_type": "markdown",
   "metadata": {},
   "source": [
    "Display without the ROI's border"
   ]
  },
  {
   "cell_type": "code",
   "execution_count": null,
   "metadata": {},
   "outputs": [],
   "source": [
    "%%time\n",
    "no_border_thumbnail = video_generator.get_thumbnail_video_from_roi(roi, quality=9)"
   ]
  },
  {
   "cell_type": "code",
   "execution_count": null,
   "metadata": {},
   "outputs": [],
   "source": [
    "%%time\n",
    "Video(**display_generator.display_video(no_border_thumbnail, width=512, height=512))"
   ]
  },
  {
   "cell_type": "markdown",
   "metadata": {},
   "source": [
    "Focus on timesteps where we know (from above) there is activity"
   ]
  },
  {
   "cell_type": "code",
   "execution_count": null,
   "metadata": {},
   "outputs": [],
   "source": [
    "%%time\n",
    "t0 = 4*60+26\n",
    "t1 = 4*60+38\n",
    "timesteps = np.arange(t0*31,t1*31)\n",
    "active_thumbnail = video_generator.get_thumbnail_video_from_roi(roi, roi_color=(255, 0, 0),\n",
    "                                                                quality=9, timesteps=timesteps)"
   ]
  },
  {
   "cell_type": "code",
   "execution_count": null,
   "metadata": {},
   "outputs": [],
   "source": [
    "%%time\n",
    "Video(**display_generator.display_video(active_thumbnail, width=512, height=512))"
   ]
  },
  {
   "cell_type": "code",
   "execution_count": null,
   "metadata": {},
   "outputs": [],
   "source": []
  },
  {
   "cell_type": "code",
   "execution_count": null,
   "metadata": {},
   "outputs": [],
   "source": []
  }
 ],
 "metadata": {
  "kernelspec": {
   "display_name": "Python 3 (ipykernel)",
   "language": "python",
   "name": "python3"
  },
  "language_info": {
   "codemirror_mode": {
    "name": "ipython",
    "version": 3
   },
   "file_extension": ".py",
   "mimetype": "text/x-python",
   "name": "python",
   "nbconvert_exporter": "python",
   "pygments_lexer": "ipython3",
   "version": "3.9.6"
  }
 },
 "nbformat": 4,
 "nbformat_minor": 4
}
