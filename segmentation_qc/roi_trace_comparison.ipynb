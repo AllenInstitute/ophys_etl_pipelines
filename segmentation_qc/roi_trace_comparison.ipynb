{
 "cells": [
  {
   "cell_type": "code",
   "execution_count": null,
   "id": "89a42fed",
   "metadata": {},
   "outputs": [],
   "source": [
    "%matplotlib inline\n",
    "import matplotlib.pyplot as plt"
   ]
  },
  {
   "cell_type": "code",
   "execution_count": null,
   "id": "5e00db33",
   "metadata": {},
   "outputs": [],
   "source": [
    "import pathlib\n",
    "import json\n",
    "import numpy as np\n",
    "from ophys_etl.modules.decrosstalk.ophys_plane import OphysROI, OphysMovie\n",
    "from ophys_etl.modules.segmentation.qc_utils.roi_utils import add_roi_boundaries_to_img"
   ]
  },
  {
   "cell_type": "code",
   "execution_count": null,
   "id": "b679f266",
   "metadata": {},
   "outputs": [],
   "source": [
    "data_dir = pathlib.Path('/Users/scott.daniel/Pika/deep_interpolation/data')\n",
    "assert data_dir.is_dir()"
   ]
  },
  {
   "cell_type": "code",
   "execution_count": null,
   "id": "449a56a6",
   "metadata": {},
   "outputs": [],
   "source": [
    "movie_path = data_dir / 'denoised.h5'\n",
    "roi_path = data_dir / 'denoised_segmentation_output.json'\n",
    "assert movie_path.is_file()\n",
    "assert roi_path.is_file()"
   ]
  },
  {
   "cell_type": "code",
   "execution_count": null,
   "id": "82434e4c",
   "metadata": {},
   "outputs": [],
   "source": [
    "with open(roi_path, 'rb') as in_file:\n",
    "    raw_roi = json.load(in_file)\n",
    "\n",
    "roi_list = []\n",
    "for i_roi, roi_data in enumerate(raw_roi):\n",
    "    roi = OphysROI(height=roi_data['height'],\n",
    "                   width=roi_data['width'],\n",
    "                   mask_matrix=roi_data['mask_matrix'],\n",
    "                   x0=roi_data['x'],\n",
    "                   y0=roi_data['y'],\n",
    "                   roi_id=i_roi, valid_roi=True)\n",
    "    roi_list.append(roi)"
   ]
  },
  {
   "cell_type": "code",
   "execution_count": null,
   "id": "20c4db07",
   "metadata": {},
   "outputs": [],
   "source": [
    "ophys_movie = OphysMovie(str(movie_path.absolute()),\n",
    "                         motion_border={'x0':0, 'x1':0, 'y0':0, 'y1':0})"
   ]
  },
  {
   "cell_type": "code",
   "execution_count": null,
   "id": "fe3c9418",
   "metadata": {},
   "outputs": [],
   "source": [
    "%%time\n",
    "ophys_movie.load_movie_data()"
   ]
  },
  {
   "cell_type": "code",
   "execution_count": null,
   "id": "fbcbf287",
   "metadata": {},
   "outputs": [],
   "source": [
    "%%time\n",
    "max_img = ophys_movie._data.max(axis=0)"
   ]
  },
  {
   "cell_type": "code",
   "execution_count": null,
   "id": "51f47c20",
   "metadata": {},
   "outputs": [],
   "source": [
    "fig = plt.figure(figsize=(20,20))\n",
    "plt.imshow(max_img, cmap='gray')"
   ]
  },
  {
   "cell_type": "code",
   "execution_count": null,
   "id": "d9162371",
   "metadata": {},
   "outputs": [],
   "source": [
    "%%time\n",
    "max_img_rgb = ophys_movie.get_max_rgb()"
   ]
  },
  {
   "cell_type": "code",
   "execution_count": null,
   "id": "fe459953",
   "metadata": {},
   "outputs": [],
   "source": []
  },
  {
   "cell_type": "code",
   "execution_count": null,
   "id": "91d5feb0",
   "metadata": {},
   "outputs": [],
   "source": [
    "max_img_rgb.min()"
   ]
  },
  {
   "cell_type": "code",
   "execution_count": null,
   "id": "ba24345c",
   "metadata": {},
   "outputs": [],
   "source": [
    "max_img_rgb.max()"
   ]
  },
  {
   "cell_type": "code",
   "execution_count": null,
   "id": "8fb4c91c",
   "metadata": {},
   "outputs": [],
   "source": [
    "fig = plt.figure(figsize=(20,20))\n",
    "plt.imshow(max_img_rgb)"
   ]
  },
  {
   "cell_type": "code",
   "execution_count": null,
   "id": "11ddb951",
   "metadata": {},
   "outputs": [],
   "source": [
    "new_img = add_roi_boundaries_to_img(max_img_rgb,\n",
    "                                    roi_list=roi_list,\n",
    "                                    alpha=0.5)"
   ]
  },
  {
   "cell_type": "code",
   "execution_count": null,
   "id": "7b880539",
   "metadata": {},
   "outputs": [],
   "source": [
    "plt.figure(figsize=(20,20))\n",
    "plt.imshow(new_img)"
   ]
  },
  {
   "cell_type": "code",
   "execution_count": null,
   "id": "d4b4d4d6",
   "metadata": {},
   "outputs": [],
   "source": []
  },
  {
   "cell_type": "code",
   "execution_count": null,
   "id": "6352b707",
   "metadata": {},
   "outputs": [],
   "source": []
  }
 ],
 "metadata": {
  "kernelspec": {
   "display_name": "Python 3",
   "language": "python",
   "name": "python3"
  },
  "language_info": {
   "codemirror_mode": {
    "name": "ipython",
    "version": 3
   },
   "file_extension": ".py",
   "mimetype": "text/x-python",
   "name": "python",
   "nbconvert_exporter": "python",
   "pygments_lexer": "ipython3",
   "version": "3.9.4"
  }
 },
 "nbformat": 4,
 "nbformat_minor": 5
}
