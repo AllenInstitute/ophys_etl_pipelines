{
 "cells": [
  {
   "cell_type": "code",
   "execution_count": null,
   "id": "a80098f6",
   "metadata": {
    "scrolled": true
   },
   "outputs": [],
   "source": [
    "%matplotlib inline\n",
    "import matplotlib.pyplot as plt\n",
    "import matplotlib.gridspec as gridspec"
   ]
  },
  {
   "cell_type": "code",
   "execution_count": null,
   "id": "be51d650",
   "metadata": {
    "scrolled": true
   },
   "outputs": [],
   "source": [
    "import pathlib\n",
    "import json\n",
    "import numpy as np\n",
    "from ophys_etl.modules.decrosstalk.ophys_plane import OphysROI, OphysMovie\n",
    "from ophys_etl.modules.decrosstalk.ophys_plane import find_overlapping_roi_pairs\n",
    "from ophys_etl.modules.segmentation.qc_utils.roi_utils import ROIExaminer\n",
    "from ophys_etl.modules.segmentation.qc_utils.roi_utils import add_roi_boundaries_to_img\n",
    "from ophys_etl.modules.segmentation.qc_utils.roi_utils import roi_thumbnail"
   ]
  },
  {
   "cell_type": "code",
   "execution_count": null,
   "id": "e0b35be9",
   "metadata": {
    "scrolled": true
   },
   "outputs": [],
   "source": [
    "data_dir = pathlib.Path('/Users/scott.daniel/Pika/deep_interpolation/data')\n",
    "assert data_dir.is_dir()"
   ]
  },
  {
   "cell_type": "code",
   "execution_count": null,
   "id": "a3d4a419",
   "metadata": {
    "scrolled": true
   },
   "outputs": [],
   "source": [
    "movie_path = data_dir / 'denoised.h5'\n",
    "roi_path = data_dir / 'denoised_segmentation_output.json'\n",
    "assert movie_path.is_file()\n",
    "assert roi_path.is_file()"
   ]
  },
  {
   "cell_type": "code",
   "execution_count": null,
   "id": "759839bb",
   "metadata": {
    "scrolled": true
   },
   "outputs": [],
   "source": []
  },
  {
   "cell_type": "code",
   "execution_count": null,
   "id": "6cd12159",
   "metadata": {
    "scrolled": true
   },
   "outputs": [],
   "source": [
    "def create_dict_of_rois(roi_list, norm=1, offset=0):\n",
    "    dex = []\n",
    "    for roi in roi_list:\n",
    "        r = np.sqrt(roi.x0**2+roi.y0**2)\n",
    "        theta = np.arctan2(roi.y0, roi.x0)\n",
    "        if theta<0.0:\n",
    "            theta += 2.0*np.pi\n",
    "        dex.append(r+theta)\n",
    "    sorted_dex = np.argsort(dex)\n",
    "    new_roi_dict = {}\n",
    "    \n",
    "    ct = 0\n",
    "    for ct, ii in enumerate(sorted_dex):\n",
    "        old_roi = roi_list[ii]\n",
    "        new_roi = OphysROI(roi_id=int(norm*ct)+offset,\n",
    "                           x0=old_roi.x0,\n",
    "                           y0=old_roi.y0,\n",
    "                           width=old_roi.width,\n",
    "                           height=old_roi.height,\n",
    "                           mask_matrix=old_roi.mask_matrix,\n",
    "                           valid_roi=True)\n",
    "        assert new_roi.roi_id not in new_roi_dict\n",
    "        assert new_roi.x0==old_roi.x0\n",
    "        assert new_roi.y0==new_roi.y0\n",
    "        new_roi_dict[new_roi.roi_id] = new_roi\n",
    "    return new_roi_dict"
   ]
  },
  {
   "cell_type": "code",
   "execution_count": null,
   "id": "b285b5ca",
   "metadata": {
    "scrolled": true
   },
   "outputs": [],
   "source": []
  },
  {
   "cell_type": "code",
   "execution_count": null,
   "id": "1b89337f",
   "metadata": {
    "scrolled": true
   },
   "outputs": [],
   "source": [
    "with open(roi_path, 'rb') as in_file:\n",
    "    raw_roi = json.load(in_file)\n",
    "\n",
    "denoised_roi_list = []\n",
    "for i_roi, roi_data in enumerate(raw_roi):\n",
    "    roi = OphysROI(height=roi_data['height'],\n",
    "                   width=roi_data['width'],\n",
    "                   mask_matrix=roi_data['mask_matrix'],\n",
    "                   x0=roi_data['x'],\n",
    "                   y0=roi_data['y'],\n",
    "                   roi_id=i_roi, valid_roi=True)\n",
    "    denoised_roi_list.append(roi)\n",
    "denoised_roi_dict = create_dict_of_rois(denoised_roi_list)\n",
    "del denoised_roi_list\n",
    "del raw_roi"
   ]
  },
  {
   "cell_type": "code",
   "execution_count": null,
   "id": "8834f1ac",
   "metadata": {
    "scrolled": true
   },
   "outputs": [],
   "source": [
    "traditional_roi_list = []\n",
    "input_json_path = data_dir / 'OPHYS_EXTRACT_TRACES_QUEUE_1048483611_input.json'\n",
    "with open(input_json_path, 'rb') as in_file:\n",
    "    raw_roi = json.load(in_file)\n",
    "for i_roi, roi_data in enumerate(raw_roi['rois']):\n",
    "    assert i_roi>=0\n",
    "    roi = OphysROI(height=roi_data['height'],\n",
    "                   width=roi_data['width'],\n",
    "                   mask_matrix=roi_data['mask'],\n",
    "                   x0=roi_data['x'],\n",
    "                   y0=roi_data['y'],\n",
    "                   roi_id=-1-i_roi, valid_roi=True)\n",
    "    traditional_roi_list.append(roi)\n",
    "traditional_roi_dict = create_dict_of_rois(traditional_roi_list, norm=-1, offset=-1)\n",
    "del raw_roi\n",
    "del traditional_roi_list"
   ]
  },
  {
   "cell_type": "code",
   "execution_count": null,
   "id": "d147febd",
   "metadata": {},
   "outputs": [],
   "source": []
  },
  {
   "cell_type": "code",
   "execution_count": null,
   "id": "c10e4756",
   "metadata": {},
   "outputs": [],
   "source": [
    "%%time\n",
    "examiner = ROIExaminer(movie_path)"
   ]
  },
  {
   "cell_type": "code",
   "execution_count": null,
   "id": "8898d455",
   "metadata": {},
   "outputs": [],
   "source": [
    "roi_sets = []\n",
    "roi_sets.append(((255,0,0), list(denoised_roi_dict.values())))\n",
    "roi_sets.append(((0,255,0), list(traditional_roi_dict.values())))"
   ]
  },
  {
   "cell_type": "code",
   "execution_count": null,
   "id": "f7eadf9d",
   "metadata": {},
   "outputs": [],
   "source": [
    "%%time\n",
    "examiner.load_rois_to_compare(roi_sets)"
   ]
  },
  {
   "cell_type": "code",
   "execution_count": null,
   "id": "a5592148",
   "metadata": {},
   "outputs": [],
   "source": [
    "%%time\n",
    "fig, ax = plt.subplots(1,1, figsize=(20,20))\n",
    "examiner.plot_rois([0,1], ax, labels=True)"
   ]
  },
  {
   "cell_type": "code",
   "execution_count": null,
   "id": "32a4db74",
   "metadata": {},
   "outputs": [],
   "source": []
  },
  {
   "cell_type": "code",
   "execution_count": null,
   "id": "f5c5c16a",
   "metadata": {},
   "outputs": [],
   "source": []
  },
  {
   "cell_type": "code",
   "execution_count": null,
   "id": "e03cbb22",
   "metadata": {},
   "outputs": [],
   "source": [
    "%%time\n",
    "fig, ax = plt.subplots(1,1, figsize=(20,20))\n",
    "examiner.plot_distinct_rois([0,1], ax, labels=True)"
   ]
  },
  {
   "cell_type": "code",
   "execution_count": null,
   "id": "b5a9cb48",
   "metadata": {},
   "outputs": [],
   "source": []
  },
  {
   "cell_type": "code",
   "execution_count": null,
   "id": "1233c585",
   "metadata": {},
   "outputs": [],
   "source": [
    "fig, axes = plt.subplots(1,2,figsize=(30,30))\n",
    "examiner.plot_rois([0,1],axes[0],labels=True, alpha=1.0)\n",
    "examiner.plot_distinct_rois([0,1],axes[1],labels=True, alpha=1.0)"
   ]
  },
  {
   "cell_type": "code",
   "execution_count": null,
   "id": "26fe8316",
   "metadata": {},
   "outputs": [],
   "source": []
  },
  {
   "cell_type": "code",
   "execution_count": null,
   "id": "52ee7408",
   "metadata": {},
   "outputs": [],
   "source": [
    "fig, axes = plt.subplots(1,2,figsize=(30,30))\n",
    "examiner.plot_rois([0,1],axes[0],labels=True, alpha=1.0)\n",
    "examiner.plot_overlapping_rois([0,1],axes[1],labels=True, alpha=1.0)"
   ]
  },
  {
   "cell_type": "code",
   "execution_count": null,
   "id": "f30e5257",
   "metadata": {},
   "outputs": [],
   "source": []
  },
  {
   "cell_type": "code",
   "execution_count": null,
   "id": "0747fa3c",
   "metadata": {},
   "outputs": [],
   "source": []
  },
  {
   "cell_type": "code",
   "execution_count": null,
   "id": "1426ad21",
   "metadata": {},
   "outputs": [],
   "source": [
    "%%time\n",
    "examiner.plot_thumbnail_and_trace(-23)\n",
    "examiner.plot_thumbnail_and_trace(45)\n",
    "examiner.plot_thumbnail_and_trace(55)"
   ]
  },
  {
   "cell_type": "code",
   "execution_count": null,
   "id": "e6127b68",
   "metadata": {},
   "outputs": [],
   "source": []
  }
 ],
 "metadata": {
  "kernelspec": {
   "display_name": "Python 3",
   "language": "python",
   "name": "python3"
  },
  "language_info": {
   "codemirror_mode": {
    "name": "ipython",
    "version": 3
   },
   "file_extension": ".py",
   "mimetype": "text/x-python",
   "name": "python",
   "nbconvert_exporter": "python",
   "pygments_lexer": "ipython3",
   "version": "3.9.4"
  }
 },
 "nbformat": 4,
 "nbformat_minor": 5
}
